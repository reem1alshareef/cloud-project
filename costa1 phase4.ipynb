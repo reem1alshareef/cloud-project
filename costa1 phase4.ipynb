{
 "cells": [
  {
   "cell_type": "code",
   "execution_count": 3,
   "id": "7f85a236-6fa9-41ae-af93-bddaca98023c",
   "metadata": {},
   "outputs": [],
   "source": [
    "import tweepy \n",
    "import pandas as pd \n",
    "import numpy as np\n",
    "from IPython.display import display\n",
    "import re"
   ]
  },
  {
   "cell_type": "code",
   "execution_count": 4,
   "id": "ef815f17-26b8-4a64-8d89-ce045ed70f3f",
   "metadata": {},
   "outputs": [],
   "source": [
    "   data = pd.read_csv('Costatwt.csv')"
   ]
  },
  {
   "cell_type": "code",
   "execution_count": 5,
   "id": "6fd92de0-61c1-436c-b40c-7a9835eefee1",
   "metadata": {},
   "outputs": [
    {
     "data": {
      "text/html": [
       "<div>\n",
       "<style scoped>\n",
       "    .dataframe tbody tr th:only-of-type {\n",
       "        vertical-align: middle;\n",
       "    }\n",
       "\n",
       "    .dataframe tbody tr th {\n",
       "        vertical-align: top;\n",
       "    }\n",
       "\n",
       "    .dataframe thead th {\n",
       "        text-align: right;\n",
       "    }\n",
       "</style>\n",
       "<table border=\"1\" class=\"dataframe\">\n",
       "  <thead>\n",
       "    <tr style=\"text-align: right;\">\n",
       "      <th></th>\n",
       "      <th>Tweets</th>\n",
       "    </tr>\n",
       "  </thead>\n",
       "  <tbody>\n",
       "    <tr>\n",
       "      <th>0</th>\n",
       "      <td>@chrisdysonHT @SafeSENCOSaeed @BrightLeadChris...</td>\n",
       "    </tr>\n",
       "    <tr>\n",
       "      <th>1</th>\n",
       "      <td>#Costa use my link to treat us both xx\\n\\nUse ...</td>\n",
       "    </tr>\n",
       "    <tr>\n",
       "      <th>2</th>\n",
       "      <td>RT @SafarTwins: مع هشام باشا مبسوط أوي @ahyani...</td>\n",
       "    </tr>\n",
       "    <tr>\n",
       "      <th>3</th>\n",
       "      <td>RT @MaximMag: The breathtaking seaside escape ...</td>\n",
       "    </tr>\n",
       "    <tr>\n",
       "      <th>4</th>\n",
       "      <td>RT @MaximMag: The breathtaking seaside escape ...</td>\n",
       "    </tr>\n",
       "  </tbody>\n",
       "</table>\n",
       "</div>"
      ],
      "text/plain": [
       "                                              Tweets\n",
       "0  @chrisdysonHT @SafeSENCOSaeed @BrightLeadChris...\n",
       "1  #Costa use my link to treat us both xx\\n\\nUse ...\n",
       "2  RT @SafarTwins: مع هشام باشا مبسوط أوي @ahyani...\n",
       "3  RT @MaximMag: The breathtaking seaside escape ...\n",
       "4  RT @MaximMag: The breathtaking seaside escape ..."
      ]
     },
     "execution_count": 5,
     "metadata": {},
     "output_type": "execute_result"
    }
   ],
   "source": [
    "data.head()"
   ]
  },
  {
   "cell_type": "code",
   "execution_count": 6,
   "id": "9b16dd78-79ce-46fe-9bde-9313b53d2b86",
   "metadata": {},
   "outputs": [
    {
     "data": {
      "text/plain": [
       "1049"
      ]
     },
     "execution_count": 6,
     "metadata": {},
     "output_type": "execute_result"
    }
   ],
   "source": [
    "len(data)"
   ]
  },
  {
   "cell_type": "code",
   "execution_count": 7,
   "id": "ce3d28a4-8aef-4880-8640-cd4d3e05b4ed",
   "metadata": {},
   "outputs": [
    {
     "data": {
      "text/plain": [
       "Index(['Tweets'], dtype='object')"
      ]
     },
     "execution_count": 7,
     "metadata": {},
     "output_type": "execute_result"
    }
   ],
   "source": [
    "data.columns"
   ]
  },
  {
   "cell_type": "code",
   "execution_count": 8,
   "id": "57eb1299-4afc-442d-91e7-384843eb0fcd",
   "metadata": {},
   "outputs": [
    {
     "data": {
      "text/plain": [
       "Tweets    1049\n",
       "dtype: int64"
      ]
     },
     "execution_count": 8,
     "metadata": {},
     "output_type": "execute_result"
    }
   ],
   "source": [
    "data.count()"
   ]
  },
  {
   "cell_type": "code",
   "execution_count": 9,
   "id": "68cd5e48-7510-4490-8602-6c18782c1ecf",
   "metadata": {},
   "outputs": [
    {
     "data": {
      "text/plain": [
       "Tweets    object\n",
       "dtype: object"
      ]
     },
     "execution_count": 9,
     "metadata": {},
     "output_type": "execute_result"
    }
   ],
   "source": [
    "data.dtypes"
   ]
  },
  {
   "cell_type": "code",
   "execution_count": 10,
   "id": "f79d916d-26e4-4271-a911-417675205320",
   "metadata": {},
   "outputs": [
    {
     "name": "stdout",
     "output_type": "stream",
     "text": [
      "<class 'pandas.core.frame.DataFrame'>\n",
      "RangeIndex: 1049 entries, 0 to 1048\n",
      "Data columns (total 1 columns):\n",
      " #   Column  Non-Null Count  Dtype \n",
      "---  ------  --------------  ----- \n",
      " 0   Tweets  1049 non-null   object\n",
      "dtypes: object(1)\n",
      "memory usage: 8.3+ KB\n"
     ]
    }
   ],
   "source": [
    "data.info()"
   ]
  },
  {
   "cell_type": "code",
   "execution_count": 11,
   "id": "14c1e15c-7318-4b84-a39c-4271809ce932",
   "metadata": {},
   "outputs": [
    {
     "data": {
      "text/plain": [
       "151"
      ]
     },
     "metadata": {},
     "output_type": "display_data"
    }
   ],
   "source": [
    "display(sum(data.duplicated()))"
   ]
  },
  {
   "cell_type": "code",
   "execution_count": 12,
   "id": "83c8a10d-eaee-4eb9-9fff-31aa8767e6ed",
   "metadata": {},
   "outputs": [
    {
     "data": {
      "text/html": [
       "<div>\n",
       "<style scoped>\n",
       "    .dataframe tbody tr th:only-of-type {\n",
       "        vertical-align: middle;\n",
       "    }\n",
       "\n",
       "    .dataframe tbody tr th {\n",
       "        vertical-align: top;\n",
       "    }\n",
       "\n",
       "    .dataframe thead th {\n",
       "        text-align: right;\n",
       "    }\n",
       "</style>\n",
       "<table border=\"1\" class=\"dataframe\">\n",
       "  <thead>\n",
       "    <tr style=\"text-align: right;\">\n",
       "      <th></th>\n",
       "      <th>Tweets</th>\n",
       "    </tr>\n",
       "  </thead>\n",
       "  <tbody>\n",
       "    <tr>\n",
       "      <th>4</th>\n",
       "      <td>RT @MaximMag: The breathtaking seaside escape ...</td>\n",
       "    </tr>\n",
       "    <tr>\n",
       "      <th>6</th>\n",
       "      <td>RT @MaximMag: The breathtaking seaside escape ...</td>\n",
       "    </tr>\n",
       "    <tr>\n",
       "      <th>7</th>\n",
       "      <td>RT @MaximMag: The breathtaking seaside escape ...</td>\n",
       "    </tr>\n",
       "    <tr>\n",
       "      <th>9</th>\n",
       "      <td>RT @MaximMag: The breathtaking seaside escape ...</td>\n",
       "    </tr>\n",
       "    <tr>\n",
       "      <th>10</th>\n",
       "      <td>RT @MaximMag: The breathtaking seaside escape ...</td>\n",
       "    </tr>\n",
       "  </tbody>\n",
       "</table>\n",
       "</div>"
      ],
      "text/plain": [
       "                                               Tweets\n",
       "4   RT @MaximMag: The breathtaking seaside escape ...\n",
       "6   RT @MaximMag: The breathtaking seaside escape ...\n",
       "7   RT @MaximMag: The breathtaking seaside escape ...\n",
       "9   RT @MaximMag: The breathtaking seaside escape ...\n",
       "10  RT @MaximMag: The breathtaking seaside escape ..."
      ]
     },
     "metadata": {},
     "output_type": "display_data"
    }
   ],
   "source": [
    "#find dublicated row with the same value in 'Tweets'\n",
    "display(data[data.duplicated(subset='Tweets')].head())"
   ]
  },
  {
   "cell_type": "code",
   "execution_count": 13,
   "id": "2ab61dce-1b37-45c7-b625-be834f12a05b",
   "metadata": {},
   "outputs": [
    {
     "data": {
      "text/html": [
       "<div>\n",
       "<style scoped>\n",
       "    .dataframe tbody tr th:only-of-type {\n",
       "        vertical-align: middle;\n",
       "    }\n",
       "\n",
       "    .dataframe tbody tr th {\n",
       "        vertical-align: top;\n",
       "    }\n",
       "\n",
       "    .dataframe thead th {\n",
       "        text-align: right;\n",
       "    }\n",
       "</style>\n",
       "<table border=\"1\" class=\"dataframe\">\n",
       "  <thead>\n",
       "    <tr style=\"text-align: right;\">\n",
       "      <th></th>\n",
       "      <th>Tweets</th>\n",
       "    </tr>\n",
       "  </thead>\n",
       "  <tbody>\n",
       "  </tbody>\n",
       "</table>\n",
       "</div>"
      ],
      "text/plain": [
       "Empty DataFrame\n",
       "Columns: [Tweets]\n",
       "Index: []"
      ]
     },
     "metadata": {},
     "output_type": "display_data"
    }
   ],
   "source": [
    "data=data[data['Tweets'].str.contains('RT')==False]\n",
    "\n",
    "display(data[data['Tweets'].str.contains('RT')])"
   ]
  },
  {
   "cell_type": "code",
   "execution_count": 14,
   "id": "21b2d3cd-fc40-4284-a9b9-43196918892f",
   "metadata": {},
   "outputs": [
    {
     "data": {
      "text/plain": [
       "10"
      ]
     },
     "metadata": {},
     "output_type": "display_data"
    }
   ],
   "source": [
    "display(sum(data.duplicated()))"
   ]
  },
  {
   "cell_type": "code",
   "execution_count": 15,
   "id": "9bc554cc-4fda-4e4f-97cf-4ae21f6b6924",
   "metadata": {},
   "outputs": [],
   "source": [
    "data.drop_duplicates(subset='Tweets',inplace=True)"
   ]
  },
  {
   "cell_type": "code",
   "execution_count": 16,
   "id": "da62f02c-1149-4034-a9cc-2190305b715b",
   "metadata": {},
   "outputs": [
    {
     "data": {
      "text/plain": [
       "0"
      ]
     },
     "metadata": {},
     "output_type": "display_data"
    }
   ],
   "source": [
    "display(sum(data.duplicated()))"
   ]
  },
  {
   "cell_type": "code",
   "execution_count": 17,
   "id": "e6646f2a-1e97-407d-aaa5-c292ae1df787",
   "metadata": {},
   "outputs": [],
   "source": [
    "def cleantwt1 (twt):\n",
    "\n",
    "  twt = re.sub('#[A-Za-z0-9]+', '', twt) # remove the '#' from the tweets\n",
    "  twt = re.sub('https?:\\/\\/\\S+', '', twt) # remove the hyperlinks\n",
    "  twt = re.sub('@[\\S]*', '', twt) # remove @mentions\n",
    "  return twt"
   ]
  },
  {
   "cell_type": "code",
   "execution_count": 18,
   "id": "82358618-1576-41fd-befc-4e606a53b669",
   "metadata": {},
   "outputs": [],
   "source": [
    "data['CleanedTweets'] = data['Tweets'].apply(cleantwt1)"
   ]
  },
  {
   "cell_type": "code",
   "execution_count": 19,
   "id": "55deb7ab-94c1-4fe3-9a3d-dbffd7a794f6",
   "metadata": {},
   "outputs": [
    {
     "data": {
      "text/html": [
       "<div>\n",
       "<style scoped>\n",
       "    .dataframe tbody tr th:only-of-type {\n",
       "        vertical-align: middle;\n",
       "    }\n",
       "\n",
       "    .dataframe tbody tr th {\n",
       "        vertical-align: top;\n",
       "    }\n",
       "\n",
       "    .dataframe thead th {\n",
       "        text-align: right;\n",
       "    }\n",
       "</style>\n",
       "<table border=\"1\" class=\"dataframe\">\n",
       "  <thead>\n",
       "    <tr style=\"text-align: right;\">\n",
       "      <th></th>\n",
       "      <th>Tweets</th>\n",
       "      <th>CleanedTweets</th>\n",
       "    </tr>\n",
       "  </thead>\n",
       "  <tbody>\n",
       "    <tr>\n",
       "      <th>0</th>\n",
       "      <td>@chrisdysonHT @SafeSENCOSaeed @BrightLeadChris...</td>\n",
       "      <td>We should launch a kindness c...</td>\n",
       "    </tr>\n",
       "    <tr>\n",
       "      <th>1</th>\n",
       "      <td>#Costa use my link to treat us both xx\\n\\nUse ...</td>\n",
       "      <td>use my link to treat us both xx\\n\\nUse the Co...</td>\n",
       "    </tr>\n",
       "    <tr>\n",
       "      <th>5</th>\n",
       "      <td>After the release of a new video of costa coff...</td>\n",
       "      <td>After the release of a new video of costa coff...</td>\n",
       "    </tr>\n",
       "    <tr>\n",
       "      <th>8</th>\n",
       "      <td>مع هشام باشا مبسوط أوي @ahyani99 😍😍 (@ Costa C...</td>\n",
       "      <td>مع هشام باشا مبسوط أوي  😍😍 ( Costa Coffee | Dr...</td>\n",
       "    </tr>\n",
       "    <tr>\n",
       "      <th>36</th>\n",
       "      <td>@ChronicleLive Never use Costa or any of the o...</td>\n",
       "      <td>Never use Costa or any of the other coffee sh...</td>\n",
       "    </tr>\n",
       "  </tbody>\n",
       "</table>\n",
       "</div>"
      ],
      "text/plain": [
       "                                               Tweets   \n",
       "0   @chrisdysonHT @SafeSENCOSaeed @BrightLeadChris...  \\\n",
       "1   #Costa use my link to treat us both xx\\n\\nUse ...   \n",
       "5   After the release of a new video of costa coff...   \n",
       "8   مع هشام باشا مبسوط أوي @ahyani99 😍😍 (@ Costa C...   \n",
       "36  @ChronicleLive Never use Costa or any of the o...   \n",
       "\n",
       "                                        CleanedTweets  \n",
       "0                    We should launch a kindness c...  \n",
       "1    use my link to treat us both xx\\n\\nUse the Co...  \n",
       "5   After the release of a new video of costa coff...  \n",
       "8   مع هشام باشا مبسوط أوي  😍😍 ( Costa Coffee | Dr...  \n",
       "36   Never use Costa or any of the other coffee sh...  "
      ]
     },
     "execution_count": 19,
     "metadata": {},
     "output_type": "execute_result"
    }
   ],
   "source": [
    "data.head()"
   ]
  },
  {
   "cell_type": "code",
   "execution_count": 20,
   "id": "76961c28-a8b5-4d9d-8350-a9b3534cedd4",
   "metadata": {},
   "outputs": [],
   "source": [
    "def remove_Emojis(twt):\n",
    "    twt = re.sub('[/\\W+/g]',' ', twt)\n",
    "    return twt"
   ]
  },
  {
   "cell_type": "code",
   "execution_count": 21,
   "id": "a8d8d141-1c2c-4e7c-8537-9e1844050620",
   "metadata": {},
   "outputs": [],
   "source": [
    "data['remove_Emojis'] = data['CleanedTweets'].apply(remove_Emojis)"
   ]
  },
  {
   "cell_type": "code",
   "execution_count": 22,
   "id": "b9d5c21d-e918-4e49-aa70-7f0aae157ec5",
   "metadata": {},
   "outputs": [
    {
     "data": {
      "text/html": [
       "<div>\n",
       "<style scoped>\n",
       "    .dataframe tbody tr th:only-of-type {\n",
       "        vertical-align: middle;\n",
       "    }\n",
       "\n",
       "    .dataframe tbody tr th {\n",
       "        vertical-align: top;\n",
       "    }\n",
       "\n",
       "    .dataframe thead th {\n",
       "        text-align: right;\n",
       "    }\n",
       "</style>\n",
       "<table border=\"1\" class=\"dataframe\">\n",
       "  <thead>\n",
       "    <tr style=\"text-align: right;\">\n",
       "      <th></th>\n",
       "      <th>Tweets</th>\n",
       "      <th>CleanedTweets</th>\n",
       "      <th>remove_Emojis</th>\n",
       "    </tr>\n",
       "  </thead>\n",
       "  <tbody>\n",
       "    <tr>\n",
       "      <th>0</th>\n",
       "      <td>@chrisdysonHT @SafeSENCOSaeed @BrightLeadChris...</td>\n",
       "      <td>We should launch a kindness c...</td>\n",
       "      <td>We should launch a kindness c...</td>\n",
       "    </tr>\n",
       "    <tr>\n",
       "      <th>1</th>\n",
       "      <td>#Costa use my link to treat us both xx\\n\\nUse ...</td>\n",
       "      <td>use my link to treat us both xx\\n\\nUse the Co...</td>\n",
       "      <td>use my link to treat us both xx  Use the Cost...</td>\n",
       "    </tr>\n",
       "    <tr>\n",
       "      <th>5</th>\n",
       "      <td>After the release of a new video of costa coff...</td>\n",
       "      <td>After the release of a new video of costa coff...</td>\n",
       "      <td>After the release of a new video of costa coff...</td>\n",
       "    </tr>\n",
       "    <tr>\n",
       "      <th>8</th>\n",
       "      <td>مع هشام باشا مبسوط أوي @ahyani99 😍😍 (@ Costa C...</td>\n",
       "      <td>مع هشام باشا مبسوط أوي  😍😍 ( Costa Coffee | Dr...</td>\n",
       "      <td>مع هشام باشا مبسوط أوي       Costa Coffee   Dr...</td>\n",
       "    </tr>\n",
       "    <tr>\n",
       "      <th>36</th>\n",
       "      <td>@ChronicleLive Never use Costa or any of the o...</td>\n",
       "      <td>Never use Costa or any of the other coffee sh...</td>\n",
       "      <td>Never use Costa or any of the other coffee sh...</td>\n",
       "    </tr>\n",
       "  </tbody>\n",
       "</table>\n",
       "</div>"
      ],
      "text/plain": [
       "                                               Tweets   \n",
       "0   @chrisdysonHT @SafeSENCOSaeed @BrightLeadChris...  \\\n",
       "1   #Costa use my link to treat us both xx\\n\\nUse ...   \n",
       "5   After the release of a new video of costa coff...   \n",
       "8   مع هشام باشا مبسوط أوي @ahyani99 😍😍 (@ Costa C...   \n",
       "36  @ChronicleLive Never use Costa or any of the o...   \n",
       "\n",
       "                                        CleanedTweets   \n",
       "0                    We should launch a kindness c...  \\\n",
       "1    use my link to treat us both xx\\n\\nUse the Co...   \n",
       "5   After the release of a new video of costa coff...   \n",
       "8   مع هشام باشا مبسوط أوي  😍😍 ( Costa Coffee | Dr...   \n",
       "36   Never use Costa or any of the other coffee sh...   \n",
       "\n",
       "                                        remove_Emojis  \n",
       "0                    We should launch a kindness c...  \n",
       "1    use my link to treat us both xx  Use the Cost...  \n",
       "5   After the release of a new video of costa coff...  \n",
       "8   مع هشام باشا مبسوط أوي       Costa Coffee   Dr...  \n",
       "36   Never use Costa or any of the other coffee sh...  "
      ]
     },
     "execution_count": 22,
     "metadata": {},
     "output_type": "execute_result"
    }
   ],
   "source": [
    "data.head()"
   ]
  },
  {
   "cell_type": "code",
   "execution_count": 23,
   "id": "211fce12-a667-47a7-9591-55d7cb054fa8",
   "metadata": {},
   "outputs": [],
   "source": [
    "#issue 4 remove non-english world\n",
    "# Define a regular expression pattern to match English letters\n",
    "english_pattern = re.compile('[a-z A-Z]+')\n"
   ]
  },
  {
   "cell_type": "code",
   "execution_count": 24,
   "id": "01fa10ed-d717-473b-b8b5-a9d425d4f048",
   "metadata": {},
   "outputs": [],
   "source": [
    "# Define a function to remove non-English letters from a string\n",
    "def remove_non_english_letters(text):\n",
    "    return ''.join([char for char in text if english_pattern.match(char)])"
   ]
  },
  {
   "cell_type": "code",
   "execution_count": 25,
   "id": "23cdf789-e32e-4ef3-803f-166d103076b8",
   "metadata": {},
   "outputs": [],
   "source": [
    "# Apply the function to all elements in the DataFrame\n",
    "data['remove_nonEnglish'] = data['remove_Emojis'].apply(remove_non_english_letters)"
   ]
  },
  {
   "cell_type": "code",
   "execution_count": 26,
   "id": "6eb04082-6272-4b25-a052-1b4365ce3a38",
   "metadata": {},
   "outputs": [
    {
     "data": {
      "text/html": [
       "<div>\n",
       "<style scoped>\n",
       "    .dataframe tbody tr th:only-of-type {\n",
       "        vertical-align: middle;\n",
       "    }\n",
       "\n",
       "    .dataframe tbody tr th {\n",
       "        vertical-align: top;\n",
       "    }\n",
       "\n",
       "    .dataframe thead th {\n",
       "        text-align: right;\n",
       "    }\n",
       "</style>\n",
       "<table border=\"1\" class=\"dataframe\">\n",
       "  <thead>\n",
       "    <tr style=\"text-align: right;\">\n",
       "      <th></th>\n",
       "      <th>Tweets</th>\n",
       "      <th>CleanedTweets</th>\n",
       "      <th>remove_Emojis</th>\n",
       "      <th>remove_nonEnglish</th>\n",
       "    </tr>\n",
       "  </thead>\n",
       "  <tbody>\n",
       "    <tr>\n",
       "      <th>0</th>\n",
       "      <td>@chrisdysonHT @SafeSENCOSaeed @BrightLeadChris...</td>\n",
       "      <td>We should launch a kindness c...</td>\n",
       "      <td>We should launch a kindness c...</td>\n",
       "      <td>We should launch a kindness c...</td>\n",
       "    </tr>\n",
       "    <tr>\n",
       "      <th>1</th>\n",
       "      <td>#Costa use my link to treat us both xx\\n\\nUse ...</td>\n",
       "      <td>use my link to treat us both xx\\n\\nUse the Co...</td>\n",
       "      <td>use my link to treat us both xx  Use the Cost...</td>\n",
       "      <td>use my link to treat us both xx  Use the Cost...</td>\n",
       "    </tr>\n",
       "    <tr>\n",
       "      <th>5</th>\n",
       "      <td>After the release of a new video of costa coff...</td>\n",
       "      <td>After the release of a new video of costa coff...</td>\n",
       "      <td>After the release of a new video of costa coff...</td>\n",
       "      <td>After the release of a new video of costa coff...</td>\n",
       "    </tr>\n",
       "    <tr>\n",
       "      <th>8</th>\n",
       "      <td>مع هشام باشا مبسوط أوي @ahyani99 😍😍 (@ Costa C...</td>\n",
       "      <td>مع هشام باشا مبسوط أوي  😍😍 ( Costa Coffee | Dr...</td>\n",
       "      <td>مع هشام باشا مبسوط أوي       Costa Coffee   Dr...</td>\n",
       "      <td>Costa Coffee   Drive Thru in   Mecc...</td>\n",
       "    </tr>\n",
       "    <tr>\n",
       "      <th>36</th>\n",
       "      <td>@ChronicleLive Never use Costa or any of the o...</td>\n",
       "      <td>Never use Costa or any of the other coffee sh...</td>\n",
       "      <td>Never use Costa or any of the other coffee sh...</td>\n",
       "      <td>Never use Costa or any of the other coffee sh...</td>\n",
       "    </tr>\n",
       "  </tbody>\n",
       "</table>\n",
       "</div>"
      ],
      "text/plain": [
       "                                               Tweets   \n",
       "0   @chrisdysonHT @SafeSENCOSaeed @BrightLeadChris...  \\\n",
       "1   #Costa use my link to treat us both xx\\n\\nUse ...   \n",
       "5   After the release of a new video of costa coff...   \n",
       "8   مع هشام باشا مبسوط أوي @ahyani99 😍😍 (@ Costa C...   \n",
       "36  @ChronicleLive Never use Costa or any of the o...   \n",
       "\n",
       "                                        CleanedTweets   \n",
       "0                    We should launch a kindness c...  \\\n",
       "1    use my link to treat us both xx\\n\\nUse the Co...   \n",
       "5   After the release of a new video of costa coff...   \n",
       "8   مع هشام باشا مبسوط أوي  😍😍 ( Costa Coffee | Dr...   \n",
       "36   Never use Costa or any of the other coffee sh...   \n",
       "\n",
       "                                        remove_Emojis   \n",
       "0                    We should launch a kindness c...  \\\n",
       "1    use my link to treat us both xx  Use the Cost...   \n",
       "5   After the release of a new video of costa coff...   \n",
       "8   مع هشام باشا مبسوط أوي       Costa Coffee   Dr...   \n",
       "36   Never use Costa or any of the other coffee sh...   \n",
       "\n",
       "                                    remove_nonEnglish  \n",
       "0                    We should launch a kindness c...  \n",
       "1    use my link to treat us both xx  Use the Cost...  \n",
       "5   After the release of a new video of costa coff...  \n",
       "8              Costa Coffee   Drive Thru in   Mecc...  \n",
       "36   Never use Costa or any of the other coffee sh...  "
      ]
     },
     "execution_count": 26,
     "metadata": {},
     "output_type": "execute_result"
    }
   ],
   "source": [
    "data.head()"
   ]
  },
  {
   "cell_type": "code",
   "execution_count": 27,
   "id": "ae2351a4-0486-4bf1-af35-46c7f2061b44",
   "metadata": {},
   "outputs": [],
   "source": [
    "def remove_unrelated_chars(Tweets):\n",
    "    Tweets = re.sub('{-}','',Tweets)\n",
    "    Tweets = re.sub('#([^\\s]+)',r'\\\\u003c\\\\1',Tweets)\n",
    "    Tweets = re.sub('@([^\\s]+)',r' ',Tweets)\n",
    "    Tweets = re.sub('\\n',' ',Tweets)\n",
    "    Tweets = re.sub('\\t',' ',Tweets)\n",
    "    Tweets = re.sub('\\r',' ',Tweets)\n",
    "    return Tweets"
   ]
  },
  {
   "cell_type": "code",
   "execution_count": 28,
   "id": "3dfda396-a6a1-4220-8f83-2f6430132d55",
   "metadata": {},
   "outputs": [],
   "source": [
    "data['remove_unrelated_chars'] = data['remove_nonEnglish'].apply(remove_unrelated_chars)"
   ]
  },
  {
   "cell_type": "code",
   "execution_count": 29,
   "id": "476dd3f7-0f39-4093-8621-0c5bd8ac2872",
   "metadata": {},
   "outputs": [
    {
     "data": {
      "text/html": [
       "<div>\n",
       "<style scoped>\n",
       "    .dataframe tbody tr th:only-of-type {\n",
       "        vertical-align: middle;\n",
       "    }\n",
       "\n",
       "    .dataframe tbody tr th {\n",
       "        vertical-align: top;\n",
       "    }\n",
       "\n",
       "    .dataframe thead th {\n",
       "        text-align: right;\n",
       "    }\n",
       "</style>\n",
       "<table border=\"1\" class=\"dataframe\">\n",
       "  <thead>\n",
       "    <tr style=\"text-align: right;\">\n",
       "      <th></th>\n",
       "      <th>Tweets</th>\n",
       "      <th>CleanedTweets</th>\n",
       "      <th>remove_Emojis</th>\n",
       "      <th>remove_nonEnglish</th>\n",
       "      <th>remove_unrelated_chars</th>\n",
       "    </tr>\n",
       "  </thead>\n",
       "  <tbody>\n",
       "    <tr>\n",
       "      <th>268</th>\n",
       "      <td>@benleo444 I had a trans person in my local Co...</td>\n",
       "      <td>I had a trans person in my local Costa Coffee...</td>\n",
       "      <td>I had a trans person in my local Costa Coffee...</td>\n",
       "      <td>I had a trans person in my local Costa Coffee...</td>\n",
       "      <td>I had a trans person in my local Costa Coffee...</td>\n",
       "    </tr>\n",
       "    <tr>\n",
       "      <th>493</th>\n",
       "      <td>i will say he’s so real for the costa coffee tho!</td>\n",
       "      <td>i will say he’s so real for the costa coffee tho!</td>\n",
       "      <td>i will say he s so real for the costa coffee tho</td>\n",
       "      <td>i will say he s so real for the costa coffee tho</td>\n",
       "      <td>i will say he s so real for the costa coffee tho</td>\n",
       "    </tr>\n",
       "    <tr>\n",
       "      <th>536</th>\n",
       "      <td>Costa coffee ochilarkan https://t.co/l1nUUDqQeP</td>\n",
       "      <td>Costa coffee ochilarkan</td>\n",
       "      <td>Costa coffee ochilarkan</td>\n",
       "      <td>Costa coffee ochilarkan</td>\n",
       "      <td>Costa coffee ochilarkan</td>\n",
       "    </tr>\n",
       "    <tr>\n",
       "      <th>1043</th>\n",
       "      <td>@fagin_mr Careful lads we've all had a Costa c...</td>\n",
       "      <td>Careful lads we've all had a Costa coffee.</td>\n",
       "      <td>Careful lads we ve all had a Costa coffee</td>\n",
       "      <td>Careful lads we ve all had a Costa coffee</td>\n",
       "      <td>Careful lads we ve all had a Costa coffee</td>\n",
       "    </tr>\n",
       "    <tr>\n",
       "      <th>167</th>\n",
       "      <td>@LolaGanzarolli @MartinDaubney @StarbucksUK St...</td>\n",
       "      <td>Starbucks coffee is awful as is costa and N...</td>\n",
       "      <td>Starbucks coffee is awful as is costa and N...</td>\n",
       "      <td>Starbucks coffee is awful as is costa and N...</td>\n",
       "      <td>Starbucks coffee is awful as is costa and N...</td>\n",
       "    </tr>\n",
       "    <tr>\n",
       "      <th>829</th>\n",
       "      <td>@Antman0528 Can I ask why you put this post on...</td>\n",
       "      <td>Can I ask why you put this post on at 6.29? I...</td>\n",
       "      <td>Can I ask why you put this post on at 6 29  I...</td>\n",
       "      <td>Can I ask why you put this post on at    Is t...</td>\n",
       "      <td>Can I ask why you put this post on at    Is t...</td>\n",
       "    </tr>\n",
       "    <tr>\n",
       "      <th>520</th>\n",
       "      <td>The Costa coffee outlet in Bridgend…..card poi...</td>\n",
       "      <td>The Costa coffee outlet in Bridgend…..card poi...</td>\n",
       "      <td>The Costa coffee outlet in Brid end   card poi...</td>\n",
       "      <td>The Costa coffee outlet in Brid end   card poi...</td>\n",
       "      <td>The Costa coffee outlet in Brid end   card poi...</td>\n",
       "    </tr>\n",
       "    <tr>\n",
       "      <th>879</th>\n",
       "      <td>@tina0402x I mean, this is clearly bollocks, t...</td>\n",
       "      <td>I mean, this is clearly bollocks, the lid is ...</td>\n",
       "      <td>I mean  this is clearly bollocks  the lid is ...</td>\n",
       "      <td>I mean  this is clearly bollocks  the lid is ...</td>\n",
       "      <td>I mean  this is clearly bollocks  the lid is ...</td>\n",
       "    </tr>\n",
       "    <tr>\n",
       "      <th>510</th>\n",
       "      <td>@Onowine Same on the travel recharge. Pre-COVI...</td>\n",
       "      <td>Same on the travel recharge. Pre-COVID, I had...</td>\n",
       "      <td>Same on the travel rechar e  Pre COVID  I had...</td>\n",
       "      <td>Same on the travel rechar e  Pre COVID  I had...</td>\n",
       "      <td>Same on the travel rechar e  Pre COVID  I had...</td>\n",
       "    </tr>\n",
       "    <tr>\n",
       "      <th>186</th>\n",
       "      <td>Coffee shop ranking :\\n\\n1. Costa \\n2. Nero \\n...</td>\n",
       "      <td>Coffee shop ranking :\\n\\n1. Costa \\n2. Nero \\n...</td>\n",
       "      <td>Coffee shop rankin     1  Costa  2  Nero  3  S...</td>\n",
       "      <td>Coffee shop rankin       Costa    Nero    Star...</td>\n",
       "      <td>Coffee shop rankin       Costa    Nero    Star...</td>\n",
       "    </tr>\n",
       "    <tr>\n",
       "      <th>94</th>\n",
       "      <td>Rhythm and Bone at Costa Coffee Erdington Thur...</td>\n",
       "      <td>Rhythm and Bone at Costa Coffee Erdington Thur...</td>\n",
       "      <td>Rhythm and Bone at Costa Coffee Erdin ton Thur...</td>\n",
       "      <td>Rhythm and Bone at Costa Coffee Erdin ton Thur...</td>\n",
       "      <td>Rhythm and Bone at Costa Coffee Erdin ton Thur...</td>\n",
       "    </tr>\n",
       "    <tr>\n",
       "      <th>658</th>\n",
       "      <td>@bornblonde12 Jeez! Well done tho …coffee soun...</td>\n",
       "      <td>Jeez! Well done tho …coffee sounds good 👍  x ...</td>\n",
       "      <td>Jeez  Well done tho  coffee sounds  ood    x ...</td>\n",
       "      <td>Jeez  Well done tho  coffee sounds  ood    x ...</td>\n",
       "      <td>Jeez  Well done tho  coffee sounds  ood    x ...</td>\n",
       "    </tr>\n",
       "    <tr>\n",
       "      <th>1048</th>\n",
       "      <td>If you're bored today (BH Monday) and want som...</td>\n",
       "      <td>If you're bored today (BH Monday) and want som...</td>\n",
       "      <td>If you re bored today  BH Monday  and want som...</td>\n",
       "      <td>If you re bored today  BH Monday  and want som...</td>\n",
       "      <td>If you re bored today  BH Monday  and want som...</td>\n",
       "    </tr>\n",
       "    <tr>\n",
       "      <th>190</th>\n",
       "      <td>this man in costa just ordered an “iced espres...</td>\n",
       "      <td>this man in costa just ordered an “iced espres...</td>\n",
       "      <td>this man in costa just ordered an  iced espres...</td>\n",
       "      <td>this man in costa just ordered an  iced espres...</td>\n",
       "      <td>this man in costa just ordered an  iced espres...</td>\n",
       "    </tr>\n",
       "    <tr>\n",
       "      <th>60</th>\n",
       "      <td>I need to get to a Costa Coffee so I can try o...</td>\n",
       "      <td>I need to get to a Costa Coffee so I can try o...</td>\n",
       "      <td>I need to  et to a Costa Coffee so I can try o...</td>\n",
       "      <td>I need to  et to a Costa Coffee so I can try o...</td>\n",
       "      <td>I need to  et to a Costa Coffee so I can try o...</td>\n",
       "    </tr>\n",
       "    <tr>\n",
       "      <th>966</th>\n",
       "      <td>@BeckettUnite Food bank rubbish go to St Georg...</td>\n",
       "      <td>Food bank rubbish go to St George’s see them ...</td>\n",
       "      <td>Food bank rubbish  o to St Geor e s see them ...</td>\n",
       "      <td>Food bank rubbish  o to St Geor e s see them ...</td>\n",
       "      <td>Food bank rubbish  o to St Geor e s see them ...</td>\n",
       "    </tr>\n",
       "    <tr>\n",
       "      <th>46</th>\n",
       "      <td>Keena- Costa\\nShe would make super cute little...</td>\n",
       "      <td>Keena- Costa\\nShe would make super cute little...</td>\n",
       "      <td>Keena  Costa She would make super cute little ...</td>\n",
       "      <td>Keena  Costa She would make super cute little ...</td>\n",
       "      <td>Keena  Costa She would make super cute little ...</td>\n",
       "    </tr>\n",
       "    <tr>\n",
       "      <th>41</th>\n",
       "      <td>@GeneralTwattery @Asuryan12 @KitGregson @PymPu...</td>\n",
       "      <td>A Costa coffee shop is 'shutting down' in ...</td>\n",
       "      <td>A Costa coffee shop is  shuttin  down  in ...</td>\n",
       "      <td>A Costa coffee shop is  shuttin  down  in ...</td>\n",
       "      <td>A Costa coffee shop is  shuttin  down  in ...</td>\n",
       "    </tr>\n",
       "    <tr>\n",
       "      <th>784</th>\n",
       "      <td>I feel no drive to see Norfolk countryside giv...</td>\n",
       "      <td>I feel no drive to see Norfolk countryside giv...</td>\n",
       "      <td>I feel no drive to see Norfolk countryside  iv...</td>\n",
       "      <td>I feel no drive to see Norfolk countryside  iv...</td>\n",
       "      <td>I feel no drive to see Norfolk countryside  iv...</td>\n",
       "    </tr>\n",
       "    <tr>\n",
       "      <th>263</th>\n",
       "      <td>i look at photos of people’s coffees from cost...</td>\n",
       "      <td>i look at photos of people’s coffees from cost...</td>\n",
       "      <td>i look at photos of people s coffees from cost...</td>\n",
       "      <td>i look at photos of people s coffees from cost...</td>\n",
       "      <td>i look at photos of people s coffees from cost...</td>\n",
       "    </tr>\n",
       "  </tbody>\n",
       "</table>\n",
       "</div>"
      ],
      "text/plain": [
       "                                                 Tweets   \n",
       "268   @benleo444 I had a trans person in my local Co...  \\\n",
       "493   i will say he’s so real for the costa coffee tho!   \n",
       "536     Costa coffee ochilarkan https://t.co/l1nUUDqQeP   \n",
       "1043  @fagin_mr Careful lads we've all had a Costa c...   \n",
       "167   @LolaGanzarolli @MartinDaubney @StarbucksUK St...   \n",
       "829   @Antman0528 Can I ask why you put this post on...   \n",
       "520   The Costa coffee outlet in Bridgend…..card poi...   \n",
       "879   @tina0402x I mean, this is clearly bollocks, t...   \n",
       "510   @Onowine Same on the travel recharge. Pre-COVI...   \n",
       "186   Coffee shop ranking :\\n\\n1. Costa \\n2. Nero \\n...   \n",
       "94    Rhythm and Bone at Costa Coffee Erdington Thur...   \n",
       "658   @bornblonde12 Jeez! Well done tho …coffee soun...   \n",
       "1048  If you're bored today (BH Monday) and want som...   \n",
       "190   this man in costa just ordered an “iced espres...   \n",
       "60    I need to get to a Costa Coffee so I can try o...   \n",
       "966   @BeckettUnite Food bank rubbish go to St Georg...   \n",
       "46    Keena- Costa\\nShe would make super cute little...   \n",
       "41    @GeneralTwattery @Asuryan12 @KitGregson @PymPu...   \n",
       "784   I feel no drive to see Norfolk countryside giv...   \n",
       "263   i look at photos of people’s coffees from cost...   \n",
       "\n",
       "                                          CleanedTweets   \n",
       "268    I had a trans person in my local Costa Coffee...  \\\n",
       "493   i will say he’s so real for the costa coffee tho!   \n",
       "536                            Costa coffee ochilarkan    \n",
       "1043         Careful lads we've all had a Costa coffee.   \n",
       "167      Starbucks coffee is awful as is costa and N...   \n",
       "829    Can I ask why you put this post on at 6.29? I...   \n",
       "520   The Costa coffee outlet in Bridgend…..card poi...   \n",
       "879    I mean, this is clearly bollocks, the lid is ...   \n",
       "510    Same on the travel recharge. Pre-COVID, I had...   \n",
       "186   Coffee shop ranking :\\n\\n1. Costa \\n2. Nero \\n...   \n",
       "94    Rhythm and Bone at Costa Coffee Erdington Thur...   \n",
       "658    Jeez! Well done tho …coffee sounds good 👍  x ...   \n",
       "1048  If you're bored today (BH Monday) and want som...   \n",
       "190   this man in costa just ordered an “iced espres...   \n",
       "60    I need to get to a Costa Coffee so I can try o...   \n",
       "966    Food bank rubbish go to St George’s see them ...   \n",
       "46    Keena- Costa\\nShe would make super cute little...   \n",
       "41        A Costa coffee shop is 'shutting down' in ...   \n",
       "784   I feel no drive to see Norfolk countryside giv...   \n",
       "263   i look at photos of people’s coffees from cost...   \n",
       "\n",
       "                                          remove_Emojis   \n",
       "268    I had a trans person in my local Costa Coffee...  \\\n",
       "493   i will say he s so real for the costa coffee tho    \n",
       "536                            Costa coffee ochilarkan    \n",
       "1043         Careful lads we ve all had a Costa coffee    \n",
       "167      Starbucks coffee is awful as is costa and N...   \n",
       "829    Can I ask why you put this post on at 6 29  I...   \n",
       "520   The Costa coffee outlet in Brid end   card poi...   \n",
       "879    I mean  this is clearly bollocks  the lid is ...   \n",
       "510    Same on the travel rechar e  Pre COVID  I had...   \n",
       "186   Coffee shop rankin     1  Costa  2  Nero  3  S...   \n",
       "94    Rhythm and Bone at Costa Coffee Erdin ton Thur...   \n",
       "658    Jeez  Well done tho  coffee sounds  ood    x ...   \n",
       "1048  If you re bored today  BH Monday  and want som...   \n",
       "190   this man in costa just ordered an  iced espres...   \n",
       "60    I need to  et to a Costa Coffee so I can try o...   \n",
       "966    Food bank rubbish  o to St Geor e s see them ...   \n",
       "46    Keena  Costa She would make super cute little ...   \n",
       "41        A Costa coffee shop is  shuttin  down  in ...   \n",
       "784   I feel no drive to see Norfolk countryside  iv...   \n",
       "263   i look at photos of people s coffees from cost...   \n",
       "\n",
       "                                      remove_nonEnglish   \n",
       "268    I had a trans person in my local Costa Coffee...  \\\n",
       "493   i will say he s so real for the costa coffee tho    \n",
       "536                            Costa coffee ochilarkan    \n",
       "1043         Careful lads we ve all had a Costa coffee    \n",
       "167      Starbucks coffee is awful as is costa and N...   \n",
       "829    Can I ask why you put this post on at    Is t...   \n",
       "520   The Costa coffee outlet in Brid end   card poi...   \n",
       "879    I mean  this is clearly bollocks  the lid is ...   \n",
       "510    Same on the travel rechar e  Pre COVID  I had...   \n",
       "186   Coffee shop rankin       Costa    Nero    Star...   \n",
       "94    Rhythm and Bone at Costa Coffee Erdin ton Thur...   \n",
       "658    Jeez  Well done tho  coffee sounds  ood    x ...   \n",
       "1048  If you re bored today  BH Monday  and want som...   \n",
       "190   this man in costa just ordered an  iced espres...   \n",
       "60    I need to  et to a Costa Coffee so I can try o...   \n",
       "966    Food bank rubbish  o to St Geor e s see them ...   \n",
       "46    Keena  Costa She would make super cute little ...   \n",
       "41        A Costa coffee shop is  shuttin  down  in ...   \n",
       "784   I feel no drive to see Norfolk countryside  iv...   \n",
       "263   i look at photos of people s coffees from cost...   \n",
       "\n",
       "                                 remove_unrelated_chars  \n",
       "268    I had a trans person in my local Costa Coffee...  \n",
       "493   i will say he s so real for the costa coffee tho   \n",
       "536                            Costa coffee ochilarkan   \n",
       "1043         Careful lads we ve all had a Costa coffee   \n",
       "167      Starbucks coffee is awful as is costa and N...  \n",
       "829    Can I ask why you put this post on at    Is t...  \n",
       "520   The Costa coffee outlet in Brid end   card poi...  \n",
       "879    I mean  this is clearly bollocks  the lid is ...  \n",
       "510    Same on the travel rechar e  Pre COVID  I had...  \n",
       "186   Coffee shop rankin       Costa    Nero    Star...  \n",
       "94    Rhythm and Bone at Costa Coffee Erdin ton Thur...  \n",
       "658    Jeez  Well done tho  coffee sounds  ood    x ...  \n",
       "1048  If you re bored today  BH Monday  and want som...  \n",
       "190   this man in costa just ordered an  iced espres...  \n",
       "60    I need to  et to a Costa Coffee so I can try o...  \n",
       "966    Food bank rubbish  o to St Geor e s see them ...  \n",
       "46    Keena  Costa She would make super cute little ...  \n",
       "41        A Costa coffee shop is  shuttin  down  in ...  \n",
       "784   I feel no drive to see Norfolk countryside  iv...  \n",
       "263   i look at photos of people s coffees from cost...  "
      ]
     },
     "execution_count": 29,
     "metadata": {},
     "output_type": "execute_result"
    }
   ],
   "source": [
    "data.sample(20)"
   ]
  },
  {
   "cell_type": "code",
   "execution_count": 30,
   "id": "d8ff358b-3fe4-4cde-81fe-5ccf5711cacf",
   "metadata": {},
   "outputs": [],
   "source": [
    "from nltk.corpus import stopwords"
   ]
  },
  {
   "cell_type": "code",
   "execution_count": 31,
   "id": "492b5cad-6d63-400f-8e90-3483bb00905c",
   "metadata": {},
   "outputs": [],
   "source": [
    "stop_words = stopwords.words('english')"
   ]
  },
  {
   "cell_type": "code",
   "execution_count": 32,
   "id": "440b0590-04bd-47a3-86d8-da9beba83c13",
   "metadata": {},
   "outputs": [
    {
     "data": {
      "text/plain": [
       "['i',\n",
       " 'me',\n",
       " 'my',\n",
       " 'myself',\n",
       " 'we',\n",
       " 'our',\n",
       " 'ours',\n",
       " 'ourselves',\n",
       " 'you',\n",
       " \"you're\",\n",
       " \"you've\",\n",
       " \"you'll\",\n",
       " \"you'd\",\n",
       " 'your',\n",
       " 'yours',\n",
       " 'yourself',\n",
       " 'yourselves',\n",
       " 'he',\n",
       " 'him',\n",
       " 'his',\n",
       " 'himself',\n",
       " 'she',\n",
       " \"she's\",\n",
       " 'her',\n",
       " 'hers',\n",
       " 'herself',\n",
       " 'it',\n",
       " \"it's\",\n",
       " 'its',\n",
       " 'itself',\n",
       " 'they',\n",
       " 'them',\n",
       " 'their',\n",
       " 'theirs',\n",
       " 'themselves',\n",
       " 'what',\n",
       " 'which',\n",
       " 'who',\n",
       " 'whom',\n",
       " 'this',\n",
       " 'that',\n",
       " \"that'll\",\n",
       " 'these',\n",
       " 'those',\n",
       " 'am',\n",
       " 'is',\n",
       " 'are',\n",
       " 'was',\n",
       " 'were',\n",
       " 'be',\n",
       " 'been',\n",
       " 'being',\n",
       " 'have',\n",
       " 'has',\n",
       " 'had',\n",
       " 'having',\n",
       " 'do',\n",
       " 'does',\n",
       " 'did',\n",
       " 'doing',\n",
       " 'a',\n",
       " 'an',\n",
       " 'the',\n",
       " 'and',\n",
       " 'but',\n",
       " 'if',\n",
       " 'or',\n",
       " 'because',\n",
       " 'as',\n",
       " 'until',\n",
       " 'while',\n",
       " 'of',\n",
       " 'at',\n",
       " 'by',\n",
       " 'for',\n",
       " 'with',\n",
       " 'about',\n",
       " 'against',\n",
       " 'between',\n",
       " 'into',\n",
       " 'through',\n",
       " 'during',\n",
       " 'before',\n",
       " 'after',\n",
       " 'above',\n",
       " 'below',\n",
       " 'to',\n",
       " 'from',\n",
       " 'up',\n",
       " 'down',\n",
       " 'in',\n",
       " 'out',\n",
       " 'on',\n",
       " 'off',\n",
       " 'over',\n",
       " 'under',\n",
       " 'again',\n",
       " 'further',\n",
       " 'then',\n",
       " 'once',\n",
       " 'here',\n",
       " 'there',\n",
       " 'when',\n",
       " 'where',\n",
       " 'why',\n",
       " 'how',\n",
       " 'all',\n",
       " 'any',\n",
       " 'both',\n",
       " 'each',\n",
       " 'few',\n",
       " 'more',\n",
       " 'most',\n",
       " 'other',\n",
       " 'some',\n",
       " 'such',\n",
       " 'no',\n",
       " 'nor',\n",
       " 'not',\n",
       " 'only',\n",
       " 'own',\n",
       " 'same',\n",
       " 'so',\n",
       " 'than',\n",
       " 'too',\n",
       " 'very',\n",
       " 's',\n",
       " 't',\n",
       " 'can',\n",
       " 'will',\n",
       " 'just',\n",
       " 'don',\n",
       " \"don't\",\n",
       " 'should',\n",
       " \"should've\",\n",
       " 'now',\n",
       " 'd',\n",
       " 'll',\n",
       " 'm',\n",
       " 'o',\n",
       " 're',\n",
       " 've',\n",
       " 'y',\n",
       " 'ain',\n",
       " 'aren',\n",
       " \"aren't\",\n",
       " 'couldn',\n",
       " \"couldn't\",\n",
       " 'didn',\n",
       " \"didn't\",\n",
       " 'doesn',\n",
       " \"doesn't\",\n",
       " 'hadn',\n",
       " \"hadn't\",\n",
       " 'hasn',\n",
       " \"hasn't\",\n",
       " 'haven',\n",
       " \"haven't\",\n",
       " 'isn',\n",
       " \"isn't\",\n",
       " 'ma',\n",
       " 'mightn',\n",
       " \"mightn't\",\n",
       " 'mustn',\n",
       " \"mustn't\",\n",
       " 'needn',\n",
       " \"needn't\",\n",
       " 'shan',\n",
       " \"shan't\",\n",
       " 'shouldn',\n",
       " \"shouldn't\",\n",
       " 'wasn',\n",
       " \"wasn't\",\n",
       " 'weren',\n",
       " \"weren't\",\n",
       " 'won',\n",
       " \"won't\",\n",
       " 'wouldn',\n",
       " \"wouldn't\"]"
      ]
     },
     "execution_count": 32,
     "metadata": {},
     "output_type": "execute_result"
    }
   ],
   "source": [
    "stop_words"
   ]
  },
  {
   "cell_type": "code",
   "execution_count": 33,
   "id": "4b7abd4a-ba51-47b6-8c22-341c1097449e",
   "metadata": {},
   "outputs": [],
   "source": [
    "data['remove_stopwords'] = data['remove_unrelated_chars'].apply(lambda x: ' '.join([word for word in x.split() if word not in (stop_words)]))\n"
   ]
  },
  {
   "cell_type": "code",
   "execution_count": 34,
   "id": "fbeedd63-99d4-459c-8afd-085f13f4983f",
   "metadata": {},
   "outputs": [
    {
     "data": {
      "text/html": [
       "<div>\n",
       "<style scoped>\n",
       "    .dataframe tbody tr th:only-of-type {\n",
       "        vertical-align: middle;\n",
       "    }\n",
       "\n",
       "    .dataframe tbody tr th {\n",
       "        vertical-align: top;\n",
       "    }\n",
       "\n",
       "    .dataframe thead th {\n",
       "        text-align: right;\n",
       "    }\n",
       "</style>\n",
       "<table border=\"1\" class=\"dataframe\">\n",
       "  <thead>\n",
       "    <tr style=\"text-align: right;\">\n",
       "      <th></th>\n",
       "      <th>Tweets</th>\n",
       "      <th>CleanedTweets</th>\n",
       "      <th>remove_Emojis</th>\n",
       "      <th>remove_nonEnglish</th>\n",
       "      <th>remove_unrelated_chars</th>\n",
       "      <th>remove_stopwords</th>\n",
       "    </tr>\n",
       "  </thead>\n",
       "  <tbody>\n",
       "    <tr>\n",
       "      <th>464</th>\n",
       "      <td>don't even go there, i am italian and we did n...</td>\n",
       "      <td>don't even go there, i am italian and we did n...</td>\n",
       "      <td>don t even  o there  i am italian and we did n...</td>\n",
       "      <td>don t even  o there  i am italian and we did n...</td>\n",
       "      <td>don t even  o there  i am italian and we did n...</td>\n",
       "      <td>even italian row starbucks costa place like co...</td>\n",
       "    </tr>\n",
       "    <tr>\n",
       "      <th>532</th>\n",
       "      <td>Hey! Costa is giving out 5 extra beans today f...</td>\n",
       "      <td>Hey! Costa is giving out 5 extra beans today f...</td>\n",
       "      <td>Hey  Costa is  ivin  out 5 extra beans today f...</td>\n",
       "      <td>Hey  Costa is  ivin  out  extra beans today fo...</td>\n",
       "      <td>Hey  Costa is  ivin  out  extra beans today fo...</td>\n",
       "      <td>Hey Costa ivin extra beans today If anyone wan...</td>\n",
       "    </tr>\n",
       "    <tr>\n",
       "      <th>125</th>\n",
       "      <td>Starbucks to Costa Coffee: Which has the stron...</td>\n",
       "      <td>Starbucks to Costa Coffee: Which has the stron...</td>\n",
       "      <td>Starbucks to Costa Coffee  Which has the stron...</td>\n",
       "      <td>Starbucks to Costa Coffee  Which has the stron...</td>\n",
       "      <td>Starbucks to Costa Coffee  Which has the stron...</td>\n",
       "      <td>Starbucks Costa Coffee Which stron est caffein...</td>\n",
       "    </tr>\n",
       "    <tr>\n",
       "      <th>736</th>\n",
       "      <td>Costa Coffee Bothwell Street is my saviour lot...</td>\n",
       "      <td>Costa Coffee Bothwell Street is my saviour lot...</td>\n",
       "      <td>Costa Coffee Bothwell Street is my saviour lot...</td>\n",
       "      <td>Costa Coffee Bothwell Street is my saviour lot...</td>\n",
       "      <td>Costa Coffee Bothwell Street is my saviour lot...</td>\n",
       "      <td>Costa Coffee Bothwell Street saviour lotsa love u</td>\n",
       "    </tr>\n",
       "    <tr>\n",
       "      <th>951</th>\n",
       "      <td>They closed unexpectedly 😳\\n\\nhttps://t.co/AqC...</td>\n",
       "      <td>They closed unexpectedly 😳\\n\\n</td>\n",
       "      <td>They closed unexpectedly</td>\n",
       "      <td>They closed unexpectedly</td>\n",
       "      <td>They closed unexpectedly</td>\n",
       "      <td>They closed unexpectedly</td>\n",
       "    </tr>\n",
       "    <tr>\n",
       "      <th>55</th>\n",
       "      <td>Hello coffee lovers! Join our ‘Gourmet Costa R...</td>\n",
       "      <td>Hello coffee lovers! Join our ‘Gourmet Costa R...</td>\n",
       "      <td>Hello coffee lovers  Join our  Gourmet Costa R...</td>\n",
       "      <td>Hello coffee lovers  Join our  Gourmet Costa R...</td>\n",
       "      <td>Hello coffee lovers  Join our  Gourmet Costa R...</td>\n",
       "      <td>Hello coffee lovers Join Gourmet Costa Rican C...</td>\n",
       "    </tr>\n",
       "    <tr>\n",
       "      <th>423</th>\n",
       "      <td>Everything guys do nowadays is an 'ick'\\n- buy...</td>\n",
       "      <td>Everything guys do nowadays is an 'ick'\\n- buy...</td>\n",
       "      <td>Everythin   uys do nowadays is an  ick    buys...</td>\n",
       "      <td>Everythin   uys do nowadays is an  ick    buys...</td>\n",
       "      <td>Everythin   uys do nowadays is an  ick    buys...</td>\n",
       "      <td>Everythin uys nowadays ick buys coffee starbuc...</td>\n",
       "    </tr>\n",
       "    <tr>\n",
       "      <th>928</th>\n",
       "      <td>Lovely staff, so helpful and friendly.\\nMake a...</td>\n",
       "      <td>Lovely staff, so helpful and friendly.\\nMake a...</td>\n",
       "      <td>Lovely staff  so helpful and friendly  Make a ...</td>\n",
       "      <td>Lovely staff  so helpful and friendly  Make a ...</td>\n",
       "      <td>Lovely staff  so helpful and friendly  Make a ...</td>\n",
       "      <td>Lovely staff helpful friendly Make ood coffee ...</td>\n",
       "    </tr>\n",
       "    <tr>\n",
       "      <th>750</th>\n",
       "      <td>There's a Costa Coffee here now too, with a dr...</td>\n",
       "      <td>There's a Costa Coffee here now too, with a dr...</td>\n",
       "      <td>There s a Costa Coffee here now too  with a dr...</td>\n",
       "      <td>There s a Costa Coffee here now too  with a dr...</td>\n",
       "      <td>There s a Costa Coffee here now too  with a dr...</td>\n",
       "      <td>There Costa Coffee drive thru weird town plann...</td>\n",
       "    </tr>\n",
       "    <tr>\n",
       "      <th>665</th>\n",
       "      <td>It must be #Friday!\\nBring on the #Coffee and ...</td>\n",
       "      <td>It must be !\\nBring on the  and . \\n☕️🧁☕️🍩☕️🍪\\...</td>\n",
       "      <td>It must be   Brin  on the  and                ...</td>\n",
       "      <td>It must be   Brin  on the  and                ...</td>\n",
       "      <td>It must be   Brin  on the  and                ...</td>\n",
       "      <td>It must Brin</td>\n",
       "    </tr>\n",
       "  </tbody>\n",
       "</table>\n",
       "</div>"
      ],
      "text/plain": [
       "                                                Tweets   \n",
       "464  don't even go there, i am italian and we did n...  \\\n",
       "532  Hey! Costa is giving out 5 extra beans today f...   \n",
       "125  Starbucks to Costa Coffee: Which has the stron...   \n",
       "736  Costa Coffee Bothwell Street is my saviour lot...   \n",
       "951  They closed unexpectedly 😳\\n\\nhttps://t.co/AqC...   \n",
       "55   Hello coffee lovers! Join our ‘Gourmet Costa R...   \n",
       "423  Everything guys do nowadays is an 'ick'\\n- buy...   \n",
       "928  Lovely staff, so helpful and friendly.\\nMake a...   \n",
       "750  There's a Costa Coffee here now too, with a dr...   \n",
       "665  It must be #Friday!\\nBring on the #Coffee and ...   \n",
       "\n",
       "                                         CleanedTweets   \n",
       "464  don't even go there, i am italian and we did n...  \\\n",
       "532  Hey! Costa is giving out 5 extra beans today f...   \n",
       "125  Starbucks to Costa Coffee: Which has the stron...   \n",
       "736  Costa Coffee Bothwell Street is my saviour lot...   \n",
       "951                     They closed unexpectedly 😳\\n\\n   \n",
       "55   Hello coffee lovers! Join our ‘Gourmet Costa R...   \n",
       "423  Everything guys do nowadays is an 'ick'\\n- buy...   \n",
       "928  Lovely staff, so helpful and friendly.\\nMake a...   \n",
       "750  There's a Costa Coffee here now too, with a dr...   \n",
       "665  It must be !\\nBring on the  and . \\n☕️🧁☕️🍩☕️🍪\\...   \n",
       "\n",
       "                                         remove_Emojis   \n",
       "464  don t even  o there  i am italian and we did n...  \\\n",
       "532  Hey  Costa is  ivin  out 5 extra beans today f...   \n",
       "125  Starbucks to Costa Coffee  Which has the stron...   \n",
       "736  Costa Coffee Bothwell Street is my saviour lot...   \n",
       "951                       They closed unexpectedly       \n",
       "55   Hello coffee lovers  Join our  Gourmet Costa R...   \n",
       "423  Everythin   uys do nowadays is an  ick    buys...   \n",
       "928  Lovely staff  so helpful and friendly  Make a ...   \n",
       "750  There s a Costa Coffee here now too  with a dr...   \n",
       "665  It must be   Brin  on the  and                ...   \n",
       "\n",
       "                                     remove_nonEnglish   \n",
       "464  don t even  o there  i am italian and we did n...  \\\n",
       "532  Hey  Costa is  ivin  out  extra beans today fo...   \n",
       "125  Starbucks to Costa Coffee  Which has the stron...   \n",
       "736  Costa Coffee Bothwell Street is my saviour lot...   \n",
       "951                       They closed unexpectedly       \n",
       "55   Hello coffee lovers  Join our  Gourmet Costa R...   \n",
       "423  Everythin   uys do nowadays is an  ick    buys...   \n",
       "928  Lovely staff  so helpful and friendly  Make a ...   \n",
       "750  There s a Costa Coffee here now too  with a dr...   \n",
       "665  It must be   Brin  on the  and                ...   \n",
       "\n",
       "                                remove_unrelated_chars   \n",
       "464  don t even  o there  i am italian and we did n...  \\\n",
       "532  Hey  Costa is  ivin  out  extra beans today fo...   \n",
       "125  Starbucks to Costa Coffee  Which has the stron...   \n",
       "736  Costa Coffee Bothwell Street is my saviour lot...   \n",
       "951                       They closed unexpectedly       \n",
       "55   Hello coffee lovers  Join our  Gourmet Costa R...   \n",
       "423  Everythin   uys do nowadays is an  ick    buys...   \n",
       "928  Lovely staff  so helpful and friendly  Make a ...   \n",
       "750  There s a Costa Coffee here now too  with a dr...   \n",
       "665  It must be   Brin  on the  and                ...   \n",
       "\n",
       "                                      remove_stopwords  \n",
       "464  even italian row starbucks costa place like co...  \n",
       "532  Hey Costa ivin extra beans today If anyone wan...  \n",
       "125  Starbucks Costa Coffee Which stron est caffein...  \n",
       "736  Costa Coffee Bothwell Street saviour lotsa love u  \n",
       "951                           They closed unexpectedly  \n",
       "55   Hello coffee lovers Join Gourmet Costa Rican C...  \n",
       "423  Everythin uys nowadays ick buys coffee starbuc...  \n",
       "928  Lovely staff helpful friendly Make ood coffee ...  \n",
       "750  There Costa Coffee drive thru weird town plann...  \n",
       "665                                       It must Brin  "
      ]
     },
     "execution_count": 34,
     "metadata": {},
     "output_type": "execute_result"
    }
   ],
   "source": [
    "data.sample(10)"
   ]
  },
  {
   "cell_type": "code",
   "execution_count": 35,
   "id": "2e846769-e2f2-471c-b0ad-4aa3a6ae36c4",
   "metadata": {},
   "outputs": [],
   "source": [
    "data['cleanTweets'] = data['remove_stopwords']"
   ]
  },
  {
   "cell_type": "code",
   "execution_count": 36,
   "id": "bd73582c-0dba-4ea8-b461-203d091da952",
   "metadata": {},
   "outputs": [],
   "source": [
    "data.to_csv(\"CostatwtClean1.csv\", index=False)"
   ]
  },
  {
   "cell_type": "code",
   "execution_count": 37,
   "id": "9dfddf37-d528-4bf8-876e-948cdfaf4a24",
   "metadata": {},
   "outputs": [],
   "source": [
    "from nltk.sentiment.vader import SentimentIntensityAnalyzer\n",
    "from textblob import TextBlob\n",
    "import nltk\n"
   ]
  },
  {
   "cell_type": "code",
   "execution_count": 38,
   "id": "42a2316a-44d4-49cb-9e0f-bea2092b9f3e",
   "metadata": {},
   "outputs": [
    {
     "data": {
      "text/html": [
       "<div>\n",
       "<style scoped>\n",
       "    .dataframe tbody tr th:only-of-type {\n",
       "        vertical-align: middle;\n",
       "    }\n",
       "\n",
       "    .dataframe tbody tr th {\n",
       "        vertical-align: top;\n",
       "    }\n",
       "\n",
       "    .dataframe thead th {\n",
       "        text-align: right;\n",
       "    }\n",
       "</style>\n",
       "<table border=\"1\" class=\"dataframe\">\n",
       "  <thead>\n",
       "    <tr style=\"text-align: right;\">\n",
       "      <th></th>\n",
       "      <th>Tweets</th>\n",
       "      <th>CleanedTweets</th>\n",
       "      <th>remove_Emojis</th>\n",
       "      <th>remove_nonEnglish</th>\n",
       "      <th>remove_unrelated_chars</th>\n",
       "      <th>remove_stopwords</th>\n",
       "      <th>cleanTweets</th>\n",
       "      <th>polarity</th>\n",
       "      <th>subjectivity</th>\n",
       "      <th>sentiment</th>\n",
       "      <th>neg</th>\n",
       "      <th>neu</th>\n",
       "      <th>pos</th>\n",
       "      <th>compound</th>\n",
       "    </tr>\n",
       "  </thead>\n",
       "  <tbody>\n",
       "    <tr>\n",
       "      <th>0</th>\n",
       "      <td>@chrisdysonHT @SafeSENCOSaeed @BrightLeadChris...</td>\n",
       "      <td>We should launch a kindness c...</td>\n",
       "      <td>We should launch a kindness c...</td>\n",
       "      <td>We should launch a kindness c...</td>\n",
       "      <td>We should launch a kindness c...</td>\n",
       "      <td>We launch kindness campai n John Ma ee try et ...</td>\n",
       "      <td>We launch kindness campai n John Ma ee try et ...</td>\n",
       "      <td>0.400000</td>\n",
       "      <td>0.800000</td>\n",
       "      <td>positive</td>\n",
       "      <td>0.000</td>\n",
       "      <td>0.690</td>\n",
       "      <td>0.310</td>\n",
       "      <td>0.7430</td>\n",
       "    </tr>\n",
       "    <tr>\n",
       "      <th>1</th>\n",
       "      <td>#Costa use my link to treat us both xx\\n\\nUse ...</td>\n",
       "      <td>use my link to treat us both xx\\n\\nUse the Co...</td>\n",
       "      <td>use my link to treat us both xx  Use the Cost...</td>\n",
       "      <td>use my link to treat us both xx  Use the Cost...</td>\n",
       "      <td>use my link to treat us both xx  Use the Cost...</td>\n",
       "      <td>use link treat us xx Use Costa app like et bea...</td>\n",
       "      <td>use link treat us xx Use Costa app like et bea...</td>\n",
       "      <td>0.325000</td>\n",
       "      <td>0.566667</td>\n",
       "      <td>positive</td>\n",
       "      <td>0.000</td>\n",
       "      <td>0.691</td>\n",
       "      <td>0.309</td>\n",
       "      <td>0.8176</td>\n",
       "    </tr>\n",
       "    <tr>\n",
       "      <th>5</th>\n",
       "      <td>After the release of a new video of costa coff...</td>\n",
       "      <td>After the release of a new video of costa coff...</td>\n",
       "      <td>After the release of a new video of costa coff...</td>\n",
       "      <td>After the release of a new video of costa coff...</td>\n",
       "      <td>After the release of a new video of costa coff...</td>\n",
       "      <td>After release new video costa coffee empoyin c...</td>\n",
       "      <td>After release new video costa coffee empoyin c...</td>\n",
       "      <td>0.136364</td>\n",
       "      <td>0.454545</td>\n",
       "      <td>neutral</td>\n",
       "      <td>0.000</td>\n",
       "      <td>1.000</td>\n",
       "      <td>0.000</td>\n",
       "      <td>0.0000</td>\n",
       "    </tr>\n",
       "    <tr>\n",
       "      <th>8</th>\n",
       "      <td>مع هشام باشا مبسوط أوي @ahyani99 😍😍 (@ Costa C...</td>\n",
       "      <td>مع هشام باشا مبسوط أوي  😍😍 ( Costa Coffee | Dr...</td>\n",
       "      <td>مع هشام باشا مبسوط أوي       Costa Coffee   Dr...</td>\n",
       "      <td>Costa Coffee   Drive Thru in   Mecc...</td>\n",
       "      <td>Costa Coffee   Drive Thru in   Mecc...</td>\n",
       "      <td>Costa Coffee Drive Thru Mecca</td>\n",
       "      <td>Costa Coffee Drive Thru Mecca</td>\n",
       "      <td>0.000000</td>\n",
       "      <td>0.000000</td>\n",
       "      <td>neutral</td>\n",
       "      <td>0.000</td>\n",
       "      <td>1.000</td>\n",
       "      <td>0.000</td>\n",
       "      <td>0.0000</td>\n",
       "    </tr>\n",
       "    <tr>\n",
       "      <th>36</th>\n",
       "      <td>@ChronicleLive Never use Costa or any of the o...</td>\n",
       "      <td>Never use Costa or any of the other coffee sh...</td>\n",
       "      <td>Never use Costa or any of the other coffee sh...</td>\n",
       "      <td>Never use Costa or any of the other coffee sh...</td>\n",
       "      <td>Never use Costa or any of the other coffee sh...</td>\n",
       "      <td>Never use Costa coffee shop always use local c...</td>\n",
       "      <td>Never use Costa coffee shop always use local c...</td>\n",
       "      <td>0.200000</td>\n",
       "      <td>0.500000</td>\n",
       "      <td>positive</td>\n",
       "      <td>0.000</td>\n",
       "      <td>0.654</td>\n",
       "      <td>0.346</td>\n",
       "      <td>0.6486</td>\n",
       "    </tr>\n",
       "    <tr>\n",
       "      <th>38</th>\n",
       "      <td>@brougher1 @bumbleysmum Eh'll need to say it w...</td>\n",
       "      <td>Eh'll need to say it when ordering coffee fr...</td>\n",
       "      <td>Eh ll need to say it when orderin  coffee fr...</td>\n",
       "      <td>Eh ll need to say it when orderin  coffee fr...</td>\n",
       "      <td>Eh ll need to say it when orderin  coffee fr...</td>\n",
       "      <td>Eh need say orderin coffee Costa West coasters...</td>\n",
       "      <td>Eh need say orderin coffee Costa West coasters...</td>\n",
       "      <td>0.000000</td>\n",
       "      <td>0.000000</td>\n",
       "      <td>neutral</td>\n",
       "      <td>0.000</td>\n",
       "      <td>1.000</td>\n",
       "      <td>0.000</td>\n",
       "      <td>0.0000</td>\n",
       "    </tr>\n",
       "    <tr>\n",
       "      <th>40</th>\n",
       "      <td>@OliLondonTV COSTA COFFEE for me now -</td>\n",
       "      <td>COSTA COFFEE for me now -</td>\n",
       "      <td>COSTA COFFEE for me now</td>\n",
       "      <td>COSTA COFFEE for me now</td>\n",
       "      <td>COSTA COFFEE for me now</td>\n",
       "      <td>COSTA COFFEE</td>\n",
       "      <td>COSTA COFFEE</td>\n",
       "      <td>0.000000</td>\n",
       "      <td>0.000000</td>\n",
       "      <td>neutral</td>\n",
       "      <td>0.000</td>\n",
       "      <td>1.000</td>\n",
       "      <td>0.000</td>\n",
       "      <td>0.0000</td>\n",
       "    </tr>\n",
       "    <tr>\n",
       "      <th>41</th>\n",
       "      <td>@GeneralTwattery @Asuryan12 @KitGregson @PymPu...</td>\n",
       "      <td>A Costa coffee shop is 'shutting down' in ...</td>\n",
       "      <td>A Costa coffee shop is  shuttin  down  in ...</td>\n",
       "      <td>A Costa coffee shop is  shuttin  down  in ...</td>\n",
       "      <td>A Costa coffee shop is  shuttin  down  in ...</td>\n",
       "      <td>A Costa coffee shop shuttin town woolworths sh...</td>\n",
       "      <td>A Costa coffee shop shuttin town woolworths sh...</td>\n",
       "      <td>-0.400000</td>\n",
       "      <td>0.700000</td>\n",
       "      <td>positive</td>\n",
       "      <td>0.071</td>\n",
       "      <td>0.827</td>\n",
       "      <td>0.102</td>\n",
       "      <td>0.2023</td>\n",
       "    </tr>\n",
       "    <tr>\n",
       "      <th>42</th>\n",
       "      <td>customer: what's the costa rican coffee?\\nme: ...</td>\n",
       "      <td>customer: what's the costa rican coffee?\\nme: ...</td>\n",
       "      <td>customer  what s the costa rican coffee  me  i...</td>\n",
       "      <td>customer  what s the costa rican coffee  me  i...</td>\n",
       "      <td>customer  what s the costa rican coffee  me  i...</td>\n",
       "      <td>customer costa rican coffee know read customer...</td>\n",
       "      <td>customer costa rican coffee know read customer...</td>\n",
       "      <td>-0.400000</td>\n",
       "      <td>0.850000</td>\n",
       "      <td>negative</td>\n",
       "      <td>0.174</td>\n",
       "      <td>0.725</td>\n",
       "      <td>0.101</td>\n",
       "      <td>-0.3612</td>\n",
       "    </tr>\n",
       "    <tr>\n",
       "      <th>43</th>\n",
       "      <td>@reprobatepress @anon_opin If people want a co...</td>\n",
       "      <td>If people want a coffee in a pub it should b...</td>\n",
       "      <td>If people want a coffee in a pub it should b...</td>\n",
       "      <td>If people want a coffee in a pub it should b...</td>\n",
       "      <td>If people want a coffee in a pub it should b...</td>\n",
       "      <td>If people want coffee pub Nescafe Instant noth...</td>\n",
       "      <td>If people want coffee pub Nescafe Instant noth...</td>\n",
       "      <td>0.000000</td>\n",
       "      <td>0.666667</td>\n",
       "      <td>positive</td>\n",
       "      <td>0.000</td>\n",
       "      <td>0.874</td>\n",
       "      <td>0.126</td>\n",
       "      <td>0.0772</td>\n",
       "    </tr>\n",
       "    <tr>\n",
       "      <th>44</th>\n",
       "      <td>The breathtaking seaside escape of Costa Smera...</td>\n",
       "      <td>The breathtaking seaside escape of Costa Smera...</td>\n",
       "      <td>The breathtakin  seaside escape of Costa Smera...</td>\n",
       "      <td>The breathtakin  seaside escape of Costa Smera...</td>\n",
       "      <td>The breathtakin  seaside escape of Costa Smera...</td>\n",
       "      <td>The breathtakin seaside escape Costa Smeralda ...</td>\n",
       "      <td>The breathtakin seaside escape Costa Smeralda ...</td>\n",
       "      <td>0.350000</td>\n",
       "      <td>0.750000</td>\n",
       "      <td>positive</td>\n",
       "      <td>0.000</td>\n",
       "      <td>0.625</td>\n",
       "      <td>0.375</td>\n",
       "      <td>0.6597</td>\n",
       "    </tr>\n",
       "    <tr>\n",
       "      <th>46</th>\n",
       "      <td>Keena- Costa\\nShe would make super cute little...</td>\n",
       "      <td>Keena- Costa\\nShe would make super cute little...</td>\n",
       "      <td>Keena  Costa She would make super cute little ...</td>\n",
       "      <td>Keena  Costa She would make super cute little ...</td>\n",
       "      <td>Keena  Costa She would make super cute little ...</td>\n",
       "      <td>Keena Costa She would make super cute little p...</td>\n",
       "      <td>Keena Costa She would make super cute little p...</td>\n",
       "      <td>0.389167</td>\n",
       "      <td>0.813333</td>\n",
       "      <td>positive</td>\n",
       "      <td>0.000</td>\n",
       "      <td>0.602</td>\n",
       "      <td>0.398</td>\n",
       "      <td>0.8910</td>\n",
       "    </tr>\n",
       "    <tr>\n",
       "      <th>47</th>\n",
       "      <td>@WelshSpur07 @Craig_Spur Costa is some sort of...</td>\n",
       "      <td>Costa is some sort of burned caramel coffee ...</td>\n",
       "      <td>Costa is some sort of burned caramel coffee ...</td>\n",
       "      <td>Costa is some sort of burned caramel coffee ...</td>\n",
       "      <td>Costa is some sort of burned caramel coffee ...</td>\n",
       "      <td>Costa sort burned caramel coffee ish flavour h...</td>\n",
       "      <td>Costa sort burned caramel coffee ish flavour h...</td>\n",
       "      <td>0.000000</td>\n",
       "      <td>0.125000</td>\n",
       "      <td>neutral</td>\n",
       "      <td>0.000</td>\n",
       "      <td>1.000</td>\n",
       "      <td>0.000</td>\n",
       "      <td>0.0000</td>\n",
       "    </tr>\n",
       "    <tr>\n",
       "      <th>48</th>\n",
       "      <td>I had a lovely cooked breakfast at my B&amp;amp;B,...</td>\n",
       "      <td>I had a lovely cooked breakfast at my B&amp;amp;B,...</td>\n",
       "      <td>I had a lovely cooked breakfast at my B amp B ...</td>\n",
       "      <td>I had a lovely cooked breakfast at my B amp B ...</td>\n",
       "      <td>I had a lovely cooked breakfast at my B amp B ...</td>\n",
       "      <td>I lovely cooked breakfast B amp B mornin coffe...</td>\n",
       "      <td>I lovely cooked breakfast B amp B mornin coffe...</td>\n",
       "      <td>0.300000</td>\n",
       "      <td>0.516667</td>\n",
       "      <td>positive</td>\n",
       "      <td>0.063</td>\n",
       "      <td>0.700</td>\n",
       "      <td>0.237</td>\n",
       "      <td>0.7351</td>\n",
       "    </tr>\n",
       "    <tr>\n",
       "      <th>49</th>\n",
       "      <td>@Craig_Spur @WelshSpur07 London only (where I ...</td>\n",
       "      <td>London only (where I work - ie has coffee ch...</td>\n",
       "      <td>London only  where I work   ie has coffee ch...</td>\n",
       "      <td>London only  where I work   ie has coffee ch...</td>\n",
       "      <td>London only  where I work   ie has coffee ch...</td>\n",
       "      <td>London I work ie coffee chains vs Welsh border...</td>\n",
       "      <td>London I work ie coffee chains vs Welsh border...</td>\n",
       "      <td>-0.010101</td>\n",
       "      <td>0.311111</td>\n",
       "      <td>positive</td>\n",
       "      <td>0.000</td>\n",
       "      <td>0.944</td>\n",
       "      <td>0.056</td>\n",
       "      <td>0.0772</td>\n",
       "    </tr>\n",
       "    <tr>\n",
       "      <th>50</th>\n",
       "      <td>A quick coffee break 🤍 (@ Costa Coffee - @cost...</td>\n",
       "      <td>A quick coffee break 🤍 ( Costa Coffee -  in Al...</td>\n",
       "      <td>A quick coffee break     Costa Coffee    in Al...</td>\n",
       "      <td>A quick coffee break     Costa Coffee    in Al...</td>\n",
       "      <td>A quick coffee break     Costa Coffee    in Al...</td>\n",
       "      <td>A quick coffee break Costa Coffee Al Farwaniyah</td>\n",
       "      <td>A quick coffee break Costa Coffee Al Farwaniyah</td>\n",
       "      <td>0.333333</td>\n",
       "      <td>0.500000</td>\n",
       "      <td>neutral</td>\n",
       "      <td>0.000</td>\n",
       "      <td>1.000</td>\n",
       "      <td>0.000</td>\n",
       "      <td>0.0000</td>\n",
       "    </tr>\n",
       "    <tr>\n",
       "      <th>51</th>\n",
       "      <td>@RossADixon @Rob_Kimbell I put petrol on by mi...</td>\n",
       "      <td>I put petrol on by mistake, I gotta diesel, ...</td>\n",
       "      <td>I put petrol on by mistake  I  otta diesel  ...</td>\n",
       "      <td>I put petrol on by mistake  I  otta diesel  ...</td>\n",
       "      <td>I put petrol on by mistake  I  otta diesel  ...</td>\n",
       "      <td>I put petrol mistake I otta diesel mp litre I ...</td>\n",
       "      <td>I put petrol mistake I otta diesel mp litre I ...</td>\n",
       "      <td>-0.800000</td>\n",
       "      <td>0.800000</td>\n",
       "      <td>negative</td>\n",
       "      <td>0.185</td>\n",
       "      <td>0.815</td>\n",
       "      <td>0.000</td>\n",
       "      <td>-0.6124</td>\n",
       "    </tr>\n",
       "    <tr>\n",
       "      <th>52</th>\n",
       "      <td>Italian Blend coffee is a delicious combinatio...</td>\n",
       "      <td>Italian Blend coffee is a delicious combinatio...</td>\n",
       "      <td>Italian Blend coffee is a delicious combinatio...</td>\n",
       "      <td>Italian Blend coffee is a delicious combinatio...</td>\n",
       "      <td>Italian Blend coffee is a delicious combinatio...</td>\n",
       "      <td>Italian Blend coffee delicious combination Cos...</td>\n",
       "      <td>Italian Blend coffee delicious combination Cos...</td>\n",
       "      <td>0.280000</td>\n",
       "      <td>0.300000</td>\n",
       "      <td>positive</td>\n",
       "      <td>0.000</td>\n",
       "      <td>0.734</td>\n",
       "      <td>0.266</td>\n",
       "      <td>0.7845</td>\n",
       "    </tr>\n",
       "    <tr>\n",
       "      <th>53</th>\n",
       "      <td>Having coffee in Costa \\nkingstownretailparkpo...</td>\n",
       "      <td>Having coffee in Costa \\nkingstownretailparkpo...</td>\n",
       "      <td>Havin  coffee in Costa  kin stownretailparkpod...</td>\n",
       "      <td>Havin  coffee in Costa  kin stownretailparkpod...</td>\n",
       "      <td>Havin  coffee in Costa  kin stownretailparkpod...</td>\n",
       "      <td>Havin coffee Costa kin stownretailparkpod heat...</td>\n",
       "      <td>Havin coffee Costa kin stownretailparkpod heat...</td>\n",
       "      <td>-0.335000</td>\n",
       "      <td>0.425000</td>\n",
       "      <td>negative</td>\n",
       "      <td>0.325</td>\n",
       "      <td>0.606</td>\n",
       "      <td>0.069</td>\n",
       "      <td>-0.8519</td>\n",
       "    </tr>\n",
       "    <tr>\n",
       "      <th>54</th>\n",
       "      <td>@AgingWhiteGay Starbucks UK rewards system is ...</td>\n",
       "      <td>Starbucks UK rewards system is as crappy as t...</td>\n",
       "      <td>Starbucks UK rewards system is as crappy as t...</td>\n",
       "      <td>Starbucks UK rewards system is as crappy as t...</td>\n",
       "      <td>Starbucks UK rewards system is as crappy as t...</td>\n",
       "      <td>Starbucks UK rewards system crappy individuals...</td>\n",
       "      <td>Starbucks UK rewards system crappy individuals...</td>\n",
       "      <td>0.325000</td>\n",
       "      <td>0.566667</td>\n",
       "      <td>positive</td>\n",
       "      <td>0.120</td>\n",
       "      <td>0.535</td>\n",
       "      <td>0.344</td>\n",
       "      <td>0.6908</td>\n",
       "    </tr>\n",
       "  </tbody>\n",
       "</table>\n",
       "</div>"
      ],
      "text/plain": [
       "                                               Tweets   \n",
       "0   @chrisdysonHT @SafeSENCOSaeed @BrightLeadChris...  \\\n",
       "1   #Costa use my link to treat us both xx\\n\\nUse ...   \n",
       "5   After the release of a new video of costa coff...   \n",
       "8   مع هشام باشا مبسوط أوي @ahyani99 😍😍 (@ Costa C...   \n",
       "36  @ChronicleLive Never use Costa or any of the o...   \n",
       "38  @brougher1 @bumbleysmum Eh'll need to say it w...   \n",
       "40             @OliLondonTV COSTA COFFEE for me now -   \n",
       "41  @GeneralTwattery @Asuryan12 @KitGregson @PymPu...   \n",
       "42  customer: what's the costa rican coffee?\\nme: ...   \n",
       "43  @reprobatepress @anon_opin If people want a co...   \n",
       "44  The breathtaking seaside escape of Costa Smera...   \n",
       "46  Keena- Costa\\nShe would make super cute little...   \n",
       "47  @WelshSpur07 @Craig_Spur Costa is some sort of...   \n",
       "48  I had a lovely cooked breakfast at my B&amp;B,...   \n",
       "49  @Craig_Spur @WelshSpur07 London only (where I ...   \n",
       "50  A quick coffee break 🤍 (@ Costa Coffee - @cost...   \n",
       "51  @RossADixon @Rob_Kimbell I put petrol on by mi...   \n",
       "52  Italian Blend coffee is a delicious combinatio...   \n",
       "53  Having coffee in Costa \\nkingstownretailparkpo...   \n",
       "54  @AgingWhiteGay Starbucks UK rewards system is ...   \n",
       "\n",
       "                                        CleanedTweets   \n",
       "0                    We should launch a kindness c...  \\\n",
       "1    use my link to treat us both xx\\n\\nUse the Co...   \n",
       "5   After the release of a new video of costa coff...   \n",
       "8   مع هشام باشا مبسوط أوي  😍😍 ( Costa Coffee | Dr...   \n",
       "36   Never use Costa or any of the other coffee sh...   \n",
       "38    Eh'll need to say it when ordering coffee fr...   \n",
       "40                          COSTA COFFEE for me now -   \n",
       "41      A Costa coffee shop is 'shutting down' in ...   \n",
       "42  customer: what's the costa rican coffee?\\nme: ...   \n",
       "43    If people want a coffee in a pub it should b...   \n",
       "44  The breathtaking seaside escape of Costa Smera...   \n",
       "46  Keena- Costa\\nShe would make super cute little...   \n",
       "47    Costa is some sort of burned caramel coffee ...   \n",
       "48  I had a lovely cooked breakfast at my B&amp;B,...   \n",
       "49    London only (where I work - ie has coffee ch...   \n",
       "50  A quick coffee break 🤍 ( Costa Coffee -  in Al...   \n",
       "51    I put petrol on by mistake, I gotta diesel, ...   \n",
       "52  Italian Blend coffee is a delicious combinatio...   \n",
       "53  Having coffee in Costa \\nkingstownretailparkpo...   \n",
       "54   Starbucks UK rewards system is as crappy as t...   \n",
       "\n",
       "                                        remove_Emojis   \n",
       "0                    We should launch a kindness c...  \\\n",
       "1    use my link to treat us both xx  Use the Cost...   \n",
       "5   After the release of a new video of costa coff...   \n",
       "8   مع هشام باشا مبسوط أوي       Costa Coffee   Dr...   \n",
       "36   Never use Costa or any of the other coffee sh...   \n",
       "38    Eh ll need to say it when orderin  coffee fr...   \n",
       "40                          COSTA COFFEE for me now     \n",
       "41      A Costa coffee shop is  shuttin  down  in ...   \n",
       "42  customer  what s the costa rican coffee  me  i...   \n",
       "43    If people want a coffee in a pub it should b...   \n",
       "44  The breathtakin  seaside escape of Costa Smera...   \n",
       "46  Keena  Costa She would make super cute little ...   \n",
       "47    Costa is some sort of burned caramel coffee ...   \n",
       "48  I had a lovely cooked breakfast at my B amp B ...   \n",
       "49    London only  where I work   ie has coffee ch...   \n",
       "50  A quick coffee break     Costa Coffee    in Al...   \n",
       "51    I put petrol on by mistake  I  otta diesel  ...   \n",
       "52  Italian Blend coffee is a delicious combinatio...   \n",
       "53  Havin  coffee in Costa  kin stownretailparkpod...   \n",
       "54   Starbucks UK rewards system is as crappy as t...   \n",
       "\n",
       "                                    remove_nonEnglish   \n",
       "0                    We should launch a kindness c...  \\\n",
       "1    use my link to treat us both xx  Use the Cost...   \n",
       "5   After the release of a new video of costa coff...   \n",
       "8              Costa Coffee   Drive Thru in   Mecc...   \n",
       "36   Never use Costa or any of the other coffee sh...   \n",
       "38    Eh ll need to say it when orderin  coffee fr...   \n",
       "40                          COSTA COFFEE for me now     \n",
       "41      A Costa coffee shop is  shuttin  down  in ...   \n",
       "42  customer  what s the costa rican coffee  me  i...   \n",
       "43    If people want a coffee in a pub it should b...   \n",
       "44  The breathtakin  seaside escape of Costa Smera...   \n",
       "46  Keena  Costa She would make super cute little ...   \n",
       "47    Costa is some sort of burned caramel coffee ...   \n",
       "48  I had a lovely cooked breakfast at my B amp B ...   \n",
       "49    London only  where I work   ie has coffee ch...   \n",
       "50  A quick coffee break     Costa Coffee    in Al...   \n",
       "51    I put petrol on by mistake  I  otta diesel  ...   \n",
       "52  Italian Blend coffee is a delicious combinatio...   \n",
       "53  Havin  coffee in Costa  kin stownretailparkpod...   \n",
       "54   Starbucks UK rewards system is as crappy as t...   \n",
       "\n",
       "                               remove_unrelated_chars   \n",
       "0                    We should launch a kindness c...  \\\n",
       "1    use my link to treat us both xx  Use the Cost...   \n",
       "5   After the release of a new video of costa coff...   \n",
       "8              Costa Coffee   Drive Thru in   Mecc...   \n",
       "36   Never use Costa or any of the other coffee sh...   \n",
       "38    Eh ll need to say it when orderin  coffee fr...   \n",
       "40                          COSTA COFFEE for me now     \n",
       "41      A Costa coffee shop is  shuttin  down  in ...   \n",
       "42  customer  what s the costa rican coffee  me  i...   \n",
       "43    If people want a coffee in a pub it should b...   \n",
       "44  The breathtakin  seaside escape of Costa Smera...   \n",
       "46  Keena  Costa She would make super cute little ...   \n",
       "47    Costa is some sort of burned caramel coffee ...   \n",
       "48  I had a lovely cooked breakfast at my B amp B ...   \n",
       "49    London only  where I work   ie has coffee ch...   \n",
       "50  A quick coffee break     Costa Coffee    in Al...   \n",
       "51    I put petrol on by mistake  I  otta diesel  ...   \n",
       "52  Italian Blend coffee is a delicious combinatio...   \n",
       "53  Havin  coffee in Costa  kin stownretailparkpod...   \n",
       "54   Starbucks UK rewards system is as crappy as t...   \n",
       "\n",
       "                                     remove_stopwords   \n",
       "0   We launch kindness campai n John Ma ee try et ...  \\\n",
       "1   use link treat us xx Use Costa app like et bea...   \n",
       "5   After release new video costa coffee empoyin c...   \n",
       "8                       Costa Coffee Drive Thru Mecca   \n",
       "36  Never use Costa coffee shop always use local c...   \n",
       "38  Eh need say orderin coffee Costa West coasters...   \n",
       "40                                       COSTA COFFEE   \n",
       "41  A Costa coffee shop shuttin town woolworths sh...   \n",
       "42  customer costa rican coffee know read customer...   \n",
       "43  If people want coffee pub Nescafe Instant noth...   \n",
       "44  The breathtakin seaside escape Costa Smeralda ...   \n",
       "46  Keena Costa She would make super cute little p...   \n",
       "47  Costa sort burned caramel coffee ish flavour h...   \n",
       "48  I lovely cooked breakfast B amp B mornin coffe...   \n",
       "49  London I work ie coffee chains vs Welsh border...   \n",
       "50    A quick coffee break Costa Coffee Al Farwaniyah   \n",
       "51  I put petrol mistake I otta diesel mp litre I ...   \n",
       "52  Italian Blend coffee delicious combination Cos...   \n",
       "53  Havin coffee Costa kin stownretailparkpod heat...   \n",
       "54  Starbucks UK rewards system crappy individuals...   \n",
       "\n",
       "                                          cleanTweets  polarity  subjectivity   \n",
       "0   We launch kindness campai n John Ma ee try et ...  0.400000      0.800000  \\\n",
       "1   use link treat us xx Use Costa app like et bea...  0.325000      0.566667   \n",
       "5   After release new video costa coffee empoyin c...  0.136364      0.454545   \n",
       "8                       Costa Coffee Drive Thru Mecca  0.000000      0.000000   \n",
       "36  Never use Costa coffee shop always use local c...  0.200000      0.500000   \n",
       "38  Eh need say orderin coffee Costa West coasters...  0.000000      0.000000   \n",
       "40                                       COSTA COFFEE  0.000000      0.000000   \n",
       "41  A Costa coffee shop shuttin town woolworths sh... -0.400000      0.700000   \n",
       "42  customer costa rican coffee know read customer... -0.400000      0.850000   \n",
       "43  If people want coffee pub Nescafe Instant noth...  0.000000      0.666667   \n",
       "44  The breathtakin seaside escape Costa Smeralda ...  0.350000      0.750000   \n",
       "46  Keena Costa She would make super cute little p...  0.389167      0.813333   \n",
       "47  Costa sort burned caramel coffee ish flavour h...  0.000000      0.125000   \n",
       "48  I lovely cooked breakfast B amp B mornin coffe...  0.300000      0.516667   \n",
       "49  London I work ie coffee chains vs Welsh border... -0.010101      0.311111   \n",
       "50    A quick coffee break Costa Coffee Al Farwaniyah  0.333333      0.500000   \n",
       "51  I put petrol mistake I otta diesel mp litre I ... -0.800000      0.800000   \n",
       "52  Italian Blend coffee delicious combination Cos...  0.280000      0.300000   \n",
       "53  Havin coffee Costa kin stownretailparkpod heat... -0.335000      0.425000   \n",
       "54  Starbucks UK rewards system crappy individuals...  0.325000      0.566667   \n",
       "\n",
       "   sentiment    neg    neu    pos  compound  \n",
       "0   positive  0.000  0.690  0.310    0.7430  \n",
       "1   positive  0.000  0.691  0.309    0.8176  \n",
       "5    neutral  0.000  1.000  0.000    0.0000  \n",
       "8    neutral  0.000  1.000  0.000    0.0000  \n",
       "36  positive  0.000  0.654  0.346    0.6486  \n",
       "38   neutral  0.000  1.000  0.000    0.0000  \n",
       "40   neutral  0.000  1.000  0.000    0.0000  \n",
       "41  positive  0.071  0.827  0.102    0.2023  \n",
       "42  negative  0.174  0.725  0.101   -0.3612  \n",
       "43  positive  0.000  0.874  0.126    0.0772  \n",
       "44  positive  0.000  0.625  0.375    0.6597  \n",
       "46  positive  0.000  0.602  0.398    0.8910  \n",
       "47   neutral  0.000  1.000  0.000    0.0000  \n",
       "48  positive  0.063  0.700  0.237    0.7351  \n",
       "49  positive  0.000  0.944  0.056    0.0772  \n",
       "50   neutral  0.000  1.000  0.000    0.0000  \n",
       "51  negative  0.185  0.815  0.000   -0.6124  \n",
       "52  positive  0.000  0.734  0.266    0.7845  \n",
       "53  negative  0.325  0.606  0.069   -0.8519  \n",
       "54  positive  0.120  0.535  0.344    0.6908  "
      ]
     },
     "execution_count": 38,
     "metadata": {},
     "output_type": "execute_result"
    }
   ],
   "source": [
    "#Calculating Negative, Positive, Neutral and Compound values\n",
    "\n",
    "data[['polarity', 'subjectivity']] = data['remove_stopwords'].apply(lambda Text: pd.Series(TextBlob(Text).sentiment))\n",
    "for index, row in data['remove_stopwords'].items():\n",
    "    score = SentimentIntensityAnalyzer().polarity_scores(row)\n",
    "    neg = score['neg']\n",
    "    neu = score['neu']\n",
    "    pos = score['pos']\n",
    "    comp = score['compound']\n",
    "    if comp <= -0.05:\n",
    "        data.loc[index, 'sentiment'] = \"negative\"\n",
    "    elif comp >= 0.05:\n",
    "        data.loc[index, 'sentiment'] = \"positive\"\n",
    "    else:\n",
    "        data.loc[index, 'sentiment'] = \"neutral\"\n",
    "    data.loc[index, 'neg'] = neg\n",
    "    data.loc[index, 'neu'] = neu\n",
    "    data.loc[index, 'pos'] = pos\n",
    "    data.loc[index, 'compound'] = comp\n",
    "\n",
    "data.head(20)"
   ]
  },
  {
   "cell_type": "code",
   "execution_count": 39,
   "id": "d2fe79d7-2646-4ef8-8f95-54b24c7f5a47",
   "metadata": {},
   "outputs": [],
   "source": [
    "#Function for count_values_in single columns\n",
    "\n",
    "def count_values_in_column(data,feature):\n",
    "    total=data.loc[:,feature].value_counts(dropna=False)\n",
    "    percentage=round(data.loc[:,feature].value_counts(dropna=False,normalize=True)*100,2)\n",
    "    return pd.concat([total,percentage],axis=1,keys=['Total','Percentage'])"
   ]
  },
  {
   "cell_type": "code",
   "execution_count": 40,
   "id": "952af041-7fd7-4507-9898-c8e1c4a60728",
   "metadata": {},
   "outputs": [
    {
     "data": {
      "text/html": [
       "<div>\n",
       "<style scoped>\n",
       "    .dataframe tbody tr th:only-of-type {\n",
       "        vertical-align: middle;\n",
       "    }\n",
       "\n",
       "    .dataframe tbody tr th {\n",
       "        vertical-align: top;\n",
       "    }\n",
       "\n",
       "    .dataframe thead th {\n",
       "        text-align: right;\n",
       "    }\n",
       "</style>\n",
       "<table border=\"1\" class=\"dataframe\">\n",
       "  <thead>\n",
       "    <tr style=\"text-align: right;\">\n",
       "      <th></th>\n",
       "      <th>Total</th>\n",
       "      <th>Percentage</th>\n",
       "    </tr>\n",
       "    <tr>\n",
       "      <th>sentiment</th>\n",
       "      <th></th>\n",
       "      <th></th>\n",
       "    </tr>\n",
       "  </thead>\n",
       "  <tbody>\n",
       "    <tr>\n",
       "      <th>positive</th>\n",
       "      <td>350</td>\n",
       "      <td>43.91</td>\n",
       "    </tr>\n",
       "    <tr>\n",
       "      <th>neutral</th>\n",
       "      <td>320</td>\n",
       "      <td>40.15</td>\n",
       "    </tr>\n",
       "    <tr>\n",
       "      <th>negative</th>\n",
       "      <td>127</td>\n",
       "      <td>15.93</td>\n",
       "    </tr>\n",
       "  </tbody>\n",
       "</table>\n",
       "</div>"
      ],
      "text/plain": [
       "           Total  Percentage\n",
       "sentiment                   \n",
       "positive     350       43.91\n",
       "neutral      320       40.15\n",
       "negative     127       15.93"
      ]
     },
     "execution_count": 40,
     "metadata": {},
     "output_type": "execute_result"
    }
   ],
   "source": [
    "#Count_values for sentiment\n",
    "count_values_in_column(data,\"sentiment\")"
   ]
  },
  {
   "cell_type": "code",
   "execution_count": 41,
   "id": "10988954-a958-49c6-b167-c0c67eb61cdd",
   "metadata": {},
   "outputs": [],
   "source": [
    "data.to_csv(\"CostatwtClean1.csv\", index=False)"
   ]
  },
  {
   "cell_type": "code",
   "execution_count": 42,
   "id": "65f6e3bf-acec-4df1-a0d6-2cc69087c126",
   "metadata": {},
   "outputs": [],
   "source": [
    "data2 = data[['cleanTweets','sentiment','neg','neu','pos']]"
   ]
  },
  {
   "cell_type": "code",
   "execution_count": 43,
   "id": "52768309-4041-4d2a-ae09-169db8473d91",
   "metadata": {},
   "outputs": [],
   "source": [
    "data2.to_csv(\"CostatwtClean2.csv\", index=False)"
   ]
  },
  {
   "cell_type": "code",
   "execution_count": 44,
   "id": "34d7674b-724b-4bde-8728-6873435948c6",
   "metadata": {},
   "outputs": [
    {
     "data": {
      "text/plain": [
       "(797, 5)"
      ]
     },
     "execution_count": 44,
     "metadata": {},
     "output_type": "execute_result"
    }
   ],
   "source": [
    "data2.shape"
   ]
  },
  {
   "cell_type": "code",
   "execution_count": 45,
   "id": "1efbbac8-051f-4b5f-9729-5d83e164d37e",
   "metadata": {},
   "outputs": [
    {
     "data": {
      "text/plain": [
       "Index(['cleanTweets', 'sentiment', 'neg', 'neu', 'pos'], dtype='object')"
      ]
     },
     "execution_count": 45,
     "metadata": {},
     "output_type": "execute_result"
    }
   ],
   "source": [
    "data2.columns"
   ]
  },
  {
   "cell_type": "code",
   "execution_count": 46,
   "id": "0b3b9f2b-d17c-4027-86b0-c11bd7ef6987",
   "metadata": {},
   "outputs": [
    {
     "name": "stdout",
     "output_type": "stream",
     "text": [
      "<class 'pandas.core.frame.DataFrame'>\n",
      "Index: 797 entries, 0 to 1048\n",
      "Data columns (total 5 columns):\n",
      " #   Column       Non-Null Count  Dtype  \n",
      "---  ------       --------------  -----  \n",
      " 0   cleanTweets  797 non-null    object \n",
      " 1   sentiment    797 non-null    object \n",
      " 2   neg          797 non-null    float64\n",
      " 3   neu          797 non-null    float64\n",
      " 4   pos          797 non-null    float64\n",
      "dtypes: float64(3), object(2)\n",
      "memory usage: 69.6+ KB\n"
     ]
    }
   ],
   "source": [
    "data2.info(verbose=True)"
   ]
  },
  {
   "cell_type": "code",
   "execution_count": 47,
   "id": "073648bf-6000-4686-9639-da2873496860",
   "metadata": {},
   "outputs": [
    {
     "data": {
      "text/html": [
       "<div>\n",
       "<style scoped>\n",
       "    .dataframe tbody tr th:only-of-type {\n",
       "        vertical-align: middle;\n",
       "    }\n",
       "\n",
       "    .dataframe tbody tr th {\n",
       "        vertical-align: top;\n",
       "    }\n",
       "\n",
       "    .dataframe thead th {\n",
       "        text-align: right;\n",
       "    }\n",
       "</style>\n",
       "<table border=\"1\" class=\"dataframe\">\n",
       "  <thead>\n",
       "    <tr style=\"text-align: right;\">\n",
       "      <th></th>\n",
       "      <th>neg</th>\n",
       "      <th>neu</th>\n",
       "      <th>pos</th>\n",
       "    </tr>\n",
       "  </thead>\n",
       "  <tbody>\n",
       "    <tr>\n",
       "      <th>count</th>\n",
       "      <td>797.000000</td>\n",
       "      <td>797.000000</td>\n",
       "      <td>797.000000</td>\n",
       "    </tr>\n",
       "    <tr>\n",
       "      <th>mean</th>\n",
       "      <td>0.050105</td>\n",
       "      <td>0.815262</td>\n",
       "      <td>0.125842</td>\n",
       "    </tr>\n",
       "    <tr>\n",
       "      <th>std</th>\n",
       "      <td>0.113575</td>\n",
       "      <td>0.196446</td>\n",
       "      <td>0.159201</td>\n",
       "    </tr>\n",
       "    <tr>\n",
       "      <th>min</th>\n",
       "      <td>0.000000</td>\n",
       "      <td>0.000000</td>\n",
       "      <td>0.000000</td>\n",
       "    </tr>\n",
       "    <tr>\n",
       "      <th>25%</th>\n",
       "      <td>0.000000</td>\n",
       "      <td>0.688000</td>\n",
       "      <td>0.000000</td>\n",
       "    </tr>\n",
       "    <tr>\n",
       "      <th>50%</th>\n",
       "      <td>0.000000</td>\n",
       "      <td>0.850000</td>\n",
       "      <td>0.048000</td>\n",
       "    </tr>\n",
       "    <tr>\n",
       "      <th>75%</th>\n",
       "      <td>0.000000</td>\n",
       "      <td>1.000000</td>\n",
       "      <td>0.231000</td>\n",
       "    </tr>\n",
       "    <tr>\n",
       "      <th>max</th>\n",
       "      <td>0.649000</td>\n",
       "      <td>1.000000</td>\n",
       "      <td>0.730000</td>\n",
       "    </tr>\n",
       "  </tbody>\n",
       "</table>\n",
       "</div>"
      ],
      "text/plain": [
       "              neg         neu         pos\n",
       "count  797.000000  797.000000  797.000000\n",
       "mean     0.050105    0.815262    0.125842\n",
       "std      0.113575    0.196446    0.159201\n",
       "min      0.000000    0.000000    0.000000\n",
       "25%      0.000000    0.688000    0.000000\n",
       "50%      0.000000    0.850000    0.048000\n",
       "75%      0.000000    1.000000    0.231000\n",
       "max      0.649000    1.000000    0.730000"
      ]
     },
     "execution_count": 47,
     "metadata": {},
     "output_type": "execute_result"
    }
   ],
   "source": [
    "data2.describe()"
   ]
  },
  {
   "cell_type": "code",
   "execution_count": 48,
   "id": "a5fb29a0-88b1-431e-8990-a312cfb1cac3",
   "metadata": {},
   "outputs": [
    {
     "data": {
      "text/html": [
       "<div>\n",
       "<style scoped>\n",
       "    .dataframe tbody tr th:only-of-type {\n",
       "        vertical-align: middle;\n",
       "    }\n",
       "\n",
       "    .dataframe tbody tr th {\n",
       "        vertical-align: top;\n",
       "    }\n",
       "\n",
       "    .dataframe thead th {\n",
       "        text-align: right;\n",
       "    }\n",
       "</style>\n",
       "<table border=\"1\" class=\"dataframe\">\n",
       "  <thead>\n",
       "    <tr style=\"text-align: right;\">\n",
       "      <th></th>\n",
       "      <th>cleanTweets</th>\n",
       "      <th>sentiment</th>\n",
       "    </tr>\n",
       "  </thead>\n",
       "  <tbody>\n",
       "    <tr>\n",
       "      <th>count</th>\n",
       "      <td>797</td>\n",
       "      <td>797</td>\n",
       "    </tr>\n",
       "    <tr>\n",
       "      <th>unique</th>\n",
       "      <td>696</td>\n",
       "      <td>3</td>\n",
       "    </tr>\n",
       "    <tr>\n",
       "      <th>top</th>\n",
       "      <td>COSTA COFFEE</td>\n",
       "      <td>positive</td>\n",
       "    </tr>\n",
       "    <tr>\n",
       "      <th>freq</th>\n",
       "      <td>25</td>\n",
       "      <td>350</td>\n",
       "    </tr>\n",
       "  </tbody>\n",
       "</table>\n",
       "</div>"
      ],
      "text/plain": [
       "         cleanTweets sentiment\n",
       "count            797       797\n",
       "unique           696         3\n",
       "top     COSTA COFFEE  positive\n",
       "freq              25       350"
      ]
     },
     "execution_count": 48,
     "metadata": {},
     "output_type": "execute_result"
    }
   ],
   "source": [
    "data2.describe(include=['object'])"
   ]
  },
  {
   "cell_type": "code",
   "execution_count": 49,
   "id": "8a2a11d9-b1d8-4b0a-884a-dd2964d0fee4",
   "metadata": {},
   "outputs": [],
   "source": [
    "#importing libraries for word occurrences and count\n",
    "from sklearn.feature_extraction.text import TfidfTransformer\n",
    "from sklearn.feature_extraction.text import CountVectorizer\n",
    "import matplotlib.pyplot as plt\n",
    "import seaborn as sns\n"
   ]
  },
  {
   "cell_type": "code",
   "execution_count": 50,
   "id": "4719051c-3356-4cc3-86e9-94bcfd203065",
   "metadata": {},
   "outputs": [
    {
     "data": {
      "text/plain": [
       "(797, 3621)"
      ]
     },
     "execution_count": 50,
     "metadata": {},
     "output_type": "execute_result"
    }
   ],
   "source": [
    "#instantiate CountVectorizer()\n",
    "countVec = CountVectorizer()\n",
    "\n",
    "# this step generates word counts for the words  \n",
    "word_count_vector = countVec.fit_transform(data2['cleanTweets'].values.astype('U'))\n",
    "\n",
    "word_count_vector.shape"
   ]
  },
  {
   "cell_type": "code",
   "execution_count": 51,
   "id": "b01bba68-816d-4c30-b3e8-e33176dc3b4d",
   "metadata": {},
   "outputs": [
    {
     "data": {
      "text/html": [
       "<style>#sk-container-id-1 {color: black;background-color: white;}#sk-container-id-1 pre{padding: 0;}#sk-container-id-1 div.sk-toggleable {background-color: white;}#sk-container-id-1 label.sk-toggleable__label {cursor: pointer;display: block;width: 100%;margin-bottom: 0;padding: 0.3em;box-sizing: border-box;text-align: center;}#sk-container-id-1 label.sk-toggleable__label-arrow:before {content: \"▸\";float: left;margin-right: 0.25em;color: #696969;}#sk-container-id-1 label.sk-toggleable__label-arrow:hover:before {color: black;}#sk-container-id-1 div.sk-estimator:hover label.sk-toggleable__label-arrow:before {color: black;}#sk-container-id-1 div.sk-toggleable__content {max-height: 0;max-width: 0;overflow: hidden;text-align: left;background-color: #f0f8ff;}#sk-container-id-1 div.sk-toggleable__content pre {margin: 0.2em;color: black;border-radius: 0.25em;background-color: #f0f8ff;}#sk-container-id-1 input.sk-toggleable__control:checked~div.sk-toggleable__content {max-height: 200px;max-width: 100%;overflow: auto;}#sk-container-id-1 input.sk-toggleable__control:checked~label.sk-toggleable__label-arrow:before {content: \"▾\";}#sk-container-id-1 div.sk-estimator input.sk-toggleable__control:checked~label.sk-toggleable__label {background-color: #d4ebff;}#sk-container-id-1 div.sk-label input.sk-toggleable__control:checked~label.sk-toggleable__label {background-color: #d4ebff;}#sk-container-id-1 input.sk-hidden--visually {border: 0;clip: rect(1px 1px 1px 1px);clip: rect(1px, 1px, 1px, 1px);height: 1px;margin: -1px;overflow: hidden;padding: 0;position: absolute;width: 1px;}#sk-container-id-1 div.sk-estimator {font-family: monospace;background-color: #f0f8ff;border: 1px dotted black;border-radius: 0.25em;box-sizing: border-box;margin-bottom: 0.5em;}#sk-container-id-1 div.sk-estimator:hover {background-color: #d4ebff;}#sk-container-id-1 div.sk-parallel-item::after {content: \"\";width: 100%;border-bottom: 1px solid gray;flex-grow: 1;}#sk-container-id-1 div.sk-label:hover label.sk-toggleable__label {background-color: #d4ebff;}#sk-container-id-1 div.sk-serial::before {content: \"\";position: absolute;border-left: 1px solid gray;box-sizing: border-box;top: 0;bottom: 0;left: 50%;z-index: 0;}#sk-container-id-1 div.sk-serial {display: flex;flex-direction: column;align-items: center;background-color: white;padding-right: 0.2em;padding-left: 0.2em;position: relative;}#sk-container-id-1 div.sk-item {position: relative;z-index: 1;}#sk-container-id-1 div.sk-parallel {display: flex;align-items: stretch;justify-content: center;background-color: white;position: relative;}#sk-container-id-1 div.sk-item::before, #sk-container-id-1 div.sk-parallel-item::before {content: \"\";position: absolute;border-left: 1px solid gray;box-sizing: border-box;top: 0;bottom: 0;left: 50%;z-index: -1;}#sk-container-id-1 div.sk-parallel-item {display: flex;flex-direction: column;z-index: 1;position: relative;background-color: white;}#sk-container-id-1 div.sk-parallel-item:first-child::after {align-self: flex-end;width: 50%;}#sk-container-id-1 div.sk-parallel-item:last-child::after {align-self: flex-start;width: 50%;}#sk-container-id-1 div.sk-parallel-item:only-child::after {width: 0;}#sk-container-id-1 div.sk-dashed-wrapped {border: 1px dashed gray;margin: 0 0.4em 0.5em 0.4em;box-sizing: border-box;padding-bottom: 0.4em;background-color: white;}#sk-container-id-1 div.sk-label label {font-family: monospace;font-weight: bold;display: inline-block;line-height: 1.2em;}#sk-container-id-1 div.sk-label-container {text-align: center;}#sk-container-id-1 div.sk-container {/* jupyter's `normalize.less` sets `[hidden] { display: none; }` but bootstrap.min.css set `[hidden] { display: none !important; }` so we also need the `!important` here to be able to override the default hidden behavior on the sphinx rendered scikit-learn.org. See: https://github.com/scikit-learn/scikit-learn/issues/21755 */display: inline-block !important;position: relative;}#sk-container-id-1 div.sk-text-repr-fallback {display: none;}</style><div id=\"sk-container-id-1\" class=\"sk-top-container\"><div class=\"sk-text-repr-fallback\"><pre>TfidfTransformer()</pre><b>In a Jupyter environment, please rerun this cell to show the HTML representation or trust the notebook. <br />On GitHub, the HTML representation is unable to render, please try loading this page with nbviewer.org.</b></div><div class=\"sk-container\" hidden><div class=\"sk-item\"><div class=\"sk-estimator sk-toggleable\"><input class=\"sk-toggleable__control sk-hidden--visually\" id=\"sk-estimator-id-1\" type=\"checkbox\" checked><label for=\"sk-estimator-id-1\" class=\"sk-toggleable__label sk-toggleable__label-arrow\">TfidfTransformer</label><div class=\"sk-toggleable__content\"><pre>TfidfTransformer()</pre></div></div></div></div></div>"
      ],
      "text/plain": [
       "TfidfTransformer()"
      ]
     },
     "execution_count": 51,
     "metadata": {},
     "output_type": "execute_result"
    }
   ],
   "source": [
    "#transform count matrix to normal tf-idf\n",
    "tfidf_transform=TfidfTransformer(smooth_idf=True,use_idf=True)\n",
    "#idf values\n",
    "tfidf_transform.fit(word_count_vector)"
   ]
  },
  {
   "cell_type": "code",
   "execution_count": 52,
   "id": "40730ff1-7663-4010-8c83-56cc49c4b8dd",
   "metadata": {},
   "outputs": [],
   "source": [
    "#print idf values\n",
    "df_idf=pd.DataFrame(tfidf_transform.idf_,index=countVec.vocabulary_.keys(),columns=['idf_weights'])"
   ]
  },
  {
   "cell_type": "code",
   "execution_count": 53,
   "id": "ad9784cd-7620-42c4-93fc-e6b9de7475d5",
   "metadata": {},
   "outputs": [
    {
     "data": {
      "text/html": [
       "<div>\n",
       "<style scoped>\n",
       "    .dataframe tbody tr th:only-of-type {\n",
       "        vertical-align: middle;\n",
       "    }\n",
       "\n",
       "    .dataframe tbody tr th {\n",
       "        vertical-align: top;\n",
       "    }\n",
       "\n",
       "    .dataframe thead th {\n",
       "        text-align: right;\n",
       "    }\n",
       "</style>\n",
       "<table border=\"1\" class=\"dataframe\">\n",
       "  <thead>\n",
       "    <tr style=\"text-align: right;\">\n",
       "      <th></th>\n",
       "      <th>idf_weights</th>\n",
       "    </tr>\n",
       "  </thead>\n",
       "  <tbody>\n",
       "    <tr>\n",
       "      <th>mostly</th>\n",
       "      <td>1.075458</td>\n",
       "    </tr>\n",
       "    <tr>\n",
       "      <th>dari</th>\n",
       "      <td>1.083600</td>\n",
       "    </tr>\n",
       "    <tr>\n",
       "      <th>actual</th>\n",
       "      <td>3.312661</td>\n",
       "    </tr>\n",
       "    <tr>\n",
       "      <th>vendors</th>\n",
       "      <td>3.364620</td>\n",
       "    </tr>\n",
       "    <tr>\n",
       "      <th>selection</th>\n",
       "      <td>3.538974</td>\n",
       "    </tr>\n",
       "    <tr>\n",
       "      <th>sis</th>\n",
       "      <td>3.538974</td>\n",
       "    </tr>\n",
       "    <tr>\n",
       "      <th>wei</th>\n",
       "      <td>3.656757</td>\n",
       "    </tr>\n",
       "    <tr>\n",
       "      <th>installed</th>\n",
       "      <td>3.730865</td>\n",
       "    </tr>\n",
       "    <tr>\n",
       "      <th>escape</th>\n",
       "      <td>3.730865</td>\n",
       "    </tr>\n",
       "    <tr>\n",
       "      <th>arc</th>\n",
       "      <td>3.750283</td>\n",
       "    </tr>\n",
       "    <tr>\n",
       "      <th>neck</th>\n",
       "      <td>3.810908</td>\n",
       "    </tr>\n",
       "    <tr>\n",
       "      <th>catch</th>\n",
       "      <td>4.018547</td>\n",
       "    </tr>\n",
       "    <tr>\n",
       "      <th>wherever</th>\n",
       "      <td>4.071191</td>\n",
       "    </tr>\n",
       "    <tr>\n",
       "      <th>played</th>\n",
       "      <td>4.155748</td>\n",
       "    </tr>\n",
       "    <tr>\n",
       "      <th>ale</th>\n",
       "      <td>4.155748</td>\n",
       "    </tr>\n",
       "  </tbody>\n",
       "</table>\n",
       "</div>"
      ],
      "text/plain": [
       "           idf_weights\n",
       "mostly        1.075458\n",
       "dari          1.083600\n",
       "actual        3.312661\n",
       "vendors       3.364620\n",
       "selection     3.538974\n",
       "sis           3.538974\n",
       "wei           3.656757\n",
       "installed     3.730865\n",
       "escape        3.730865\n",
       "arc           3.750283\n",
       "neck          3.810908\n",
       "catch         4.018547\n",
       "wherever      4.071191\n",
       "played        4.155748\n",
       "ale           4.155748"
      ]
     },
     "execution_count": 53,
     "metadata": {},
     "output_type": "execute_result"
    }
   ],
   "source": [
    "df_idf.sort_values(by=['idf_weights']).head(15)"
   ]
  },
  {
   "cell_type": "code",
   "execution_count": 54,
   "id": "a9c5e657-ff54-40a3-903e-c4d52a5ae949",
   "metadata": {},
   "outputs": [
    {
     "data": {
      "text/html": [
       "<div>\n",
       "<style scoped>\n",
       "    .dataframe tbody tr th:only-of-type {\n",
       "        vertical-align: middle;\n",
       "    }\n",
       "\n",
       "    .dataframe tbody tr th {\n",
       "        vertical-align: top;\n",
       "    }\n",
       "\n",
       "    .dataframe thead th {\n",
       "        text-align: right;\n",
       "    }\n",
       "</style>\n",
       "<table border=\"1\" class=\"dataframe\">\n",
       "  <thead>\n",
       "    <tr style=\"text-align: right;\">\n",
       "      <th></th>\n",
       "      <th>idf_weights</th>\n",
       "    </tr>\n",
       "  </thead>\n",
       "  <tbody>\n",
       "    <tr>\n",
       "      <th>data</th>\n",
       "      <td>6.988961</td>\n",
       "    </tr>\n",
       "    <tr>\n",
       "      <th>visuals</th>\n",
       "      <td>6.988961</td>\n",
       "    </tr>\n",
       "    <tr>\n",
       "      <th>article</th>\n",
       "      <td>6.988961</td>\n",
       "    </tr>\n",
       "    <tr>\n",
       "      <th>heart</th>\n",
       "      <td>6.988961</td>\n",
       "    </tr>\n",
       "    <tr>\n",
       "      <th>communities</th>\n",
       "      <td>6.988961</td>\n",
       "    </tr>\n",
       "    <tr>\n",
       "      <th>central</th>\n",
       "      <td>6.988961</td>\n",
       "    </tr>\n",
       "    <tr>\n",
       "      <th>american</th>\n",
       "      <td>6.988961</td>\n",
       "    </tr>\n",
       "    <tr>\n",
       "      <th>hotter</th>\n",
       "      <td>6.988961</td>\n",
       "    </tr>\n",
       "    <tr>\n",
       "      <th>erratic</th>\n",
       "      <td>6.988961</td>\n",
       "    </tr>\n",
       "    <tr>\n",
       "      <th>matchin</th>\n",
       "      <td>6.988961</td>\n",
       "    </tr>\n",
       "    <tr>\n",
       "      <th>keyboard</th>\n",
       "      <td>6.988961</td>\n",
       "    </tr>\n",
       "    <tr>\n",
       "      <th>mula</th>\n",
       "      <td>6.988961</td>\n",
       "    </tr>\n",
       "    <tr>\n",
       "      <th>mcm</th>\n",
       "      <td>6.988961</td>\n",
       "    </tr>\n",
       "    <tr>\n",
       "      <th>art</th>\n",
       "      <td>6.988961</td>\n",
       "    </tr>\n",
       "    <tr>\n",
       "      <th>creators</th>\n",
       "      <td>6.988961</td>\n",
       "    </tr>\n",
       "  </tbody>\n",
       "</table>\n",
       "</div>"
      ],
      "text/plain": [
       "             idf_weights\n",
       "data            6.988961\n",
       "visuals         6.988961\n",
       "article         6.988961\n",
       "heart           6.988961\n",
       "communities     6.988961\n",
       "central         6.988961\n",
       "american        6.988961\n",
       "hotter          6.988961\n",
       "erratic         6.988961\n",
       "matchin         6.988961\n",
       "keyboard        6.988961\n",
       "mula            6.988961\n",
       "mcm             6.988961\n",
       "art             6.988961\n",
       "creators        6.988961"
      ]
     },
     "execution_count": 54,
     "metadata": {},
     "output_type": "execute_result"
    }
   ],
   "source": [
    "df_idf.sort_values(by=['idf_weights']).tail(15)"
   ]
  },
  {
   "cell_type": "code",
   "execution_count": 55,
   "id": "9b1cc671",
   "metadata": {},
   "outputs": [],
   "source": [
    "#dropp the neutral and iirelevant classes\n",
    "data=data[data['sentiment'] != 'natural']\n",
    "data=data[data['sentiment'] != 'irrelevant']"
   ]
  },
  {
   "cell_type": "code",
   "execution_count": 56,
   "id": "748cdfe5",
   "metadata": {},
   "outputs": [
    {
     "data": {
      "text/html": [
       "<div>\n",
       "<style scoped>\n",
       "    .dataframe tbody tr th:only-of-type {\n",
       "        vertical-align: middle;\n",
       "    }\n",
       "\n",
       "    .dataframe tbody tr th {\n",
       "        vertical-align: top;\n",
       "    }\n",
       "\n",
       "    .dataframe thead th {\n",
       "        text-align: right;\n",
       "    }\n",
       "</style>\n",
       "<table border=\"1\" class=\"dataframe\">\n",
       "  <thead>\n",
       "    <tr style=\"text-align: right;\">\n",
       "      <th></th>\n",
       "      <th>cleanTweets</th>\n",
       "      <th>polarity</th>\n",
       "      <th>subjectivity</th>\n",
       "      <th>sentiment</th>\n",
       "      <th>neg</th>\n",
       "      <th>neu</th>\n",
       "      <th>pos</th>\n",
       "      <th>compound</th>\n",
       "    </tr>\n",
       "  </thead>\n",
       "  <tbody>\n",
       "    <tr>\n",
       "      <th>0</th>\n",
       "      <td>We launch kindness campai n John Ma ee try et ...</td>\n",
       "      <td>0.400000</td>\n",
       "      <td>0.800000</td>\n",
       "      <td>0.0</td>\n",
       "      <td>0.000</td>\n",
       "      <td>0.690</td>\n",
       "      <td>0.310</td>\n",
       "      <td>0.7430</td>\n",
       "    </tr>\n",
       "    <tr>\n",
       "      <th>1</th>\n",
       "      <td>use link treat us xx Use Costa app like et bea...</td>\n",
       "      <td>0.325000</td>\n",
       "      <td>0.566667</td>\n",
       "      <td>0.0</td>\n",
       "      <td>0.000</td>\n",
       "      <td>0.691</td>\n",
       "      <td>0.309</td>\n",
       "      <td>0.8176</td>\n",
       "    </tr>\n",
       "    <tr>\n",
       "      <th>5</th>\n",
       "      <td>After release new video costa coffee empoyin c...</td>\n",
       "      <td>0.136364</td>\n",
       "      <td>0.454545</td>\n",
       "      <td>NaN</td>\n",
       "      <td>0.000</td>\n",
       "      <td>1.000</td>\n",
       "      <td>0.000</td>\n",
       "      <td>0.0000</td>\n",
       "    </tr>\n",
       "    <tr>\n",
       "      <th>8</th>\n",
       "      <td>Costa Coffee Drive Thru Mecca</td>\n",
       "      <td>0.000000</td>\n",
       "      <td>0.000000</td>\n",
       "      <td>NaN</td>\n",
       "      <td>0.000</td>\n",
       "      <td>1.000</td>\n",
       "      <td>0.000</td>\n",
       "      <td>0.0000</td>\n",
       "    </tr>\n",
       "    <tr>\n",
       "      <th>36</th>\n",
       "      <td>Never use Costa coffee shop always use local c...</td>\n",
       "      <td>0.200000</td>\n",
       "      <td>0.500000</td>\n",
       "      <td>0.0</td>\n",
       "      <td>0.000</td>\n",
       "      <td>0.654</td>\n",
       "      <td>0.346</td>\n",
       "      <td>0.6486</td>\n",
       "    </tr>\n",
       "    <tr>\n",
       "      <th>38</th>\n",
       "      <td>Eh need say orderin coffee Costa West coasters...</td>\n",
       "      <td>0.000000</td>\n",
       "      <td>0.000000</td>\n",
       "      <td>NaN</td>\n",
       "      <td>0.000</td>\n",
       "      <td>1.000</td>\n",
       "      <td>0.000</td>\n",
       "      <td>0.0000</td>\n",
       "    </tr>\n",
       "    <tr>\n",
       "      <th>40</th>\n",
       "      <td>COSTA COFFEE</td>\n",
       "      <td>0.000000</td>\n",
       "      <td>0.000000</td>\n",
       "      <td>NaN</td>\n",
       "      <td>0.000</td>\n",
       "      <td>1.000</td>\n",
       "      <td>0.000</td>\n",
       "      <td>0.0000</td>\n",
       "    </tr>\n",
       "    <tr>\n",
       "      <th>41</th>\n",
       "      <td>A Costa coffee shop shuttin town woolworths sh...</td>\n",
       "      <td>-0.400000</td>\n",
       "      <td>0.700000</td>\n",
       "      <td>0.0</td>\n",
       "      <td>0.071</td>\n",
       "      <td>0.827</td>\n",
       "      <td>0.102</td>\n",
       "      <td>0.2023</td>\n",
       "    </tr>\n",
       "    <tr>\n",
       "      <th>42</th>\n",
       "      <td>customer costa rican coffee know read customer...</td>\n",
       "      <td>-0.400000</td>\n",
       "      <td>0.850000</td>\n",
       "      <td>1.0</td>\n",
       "      <td>0.174</td>\n",
       "      <td>0.725</td>\n",
       "      <td>0.101</td>\n",
       "      <td>-0.3612</td>\n",
       "    </tr>\n",
       "    <tr>\n",
       "      <th>43</th>\n",
       "      <td>If people want coffee pub Nescafe Instant noth...</td>\n",
       "      <td>0.000000</td>\n",
       "      <td>0.666667</td>\n",
       "      <td>0.0</td>\n",
       "      <td>0.000</td>\n",
       "      <td>0.874</td>\n",
       "      <td>0.126</td>\n",
       "      <td>0.0772</td>\n",
       "    </tr>\n",
       "  </tbody>\n",
       "</table>\n",
       "</div>"
      ],
      "text/plain": [
       "                                          cleanTweets  polarity  subjectivity   \n",
       "0   We launch kindness campai n John Ma ee try et ...  0.400000      0.800000  \\\n",
       "1   use link treat us xx Use Costa app like et bea...  0.325000      0.566667   \n",
       "5   After release new video costa coffee empoyin c...  0.136364      0.454545   \n",
       "8                       Costa Coffee Drive Thru Mecca  0.000000      0.000000   \n",
       "36  Never use Costa coffee shop always use local c...  0.200000      0.500000   \n",
       "38  Eh need say orderin coffee Costa West coasters...  0.000000      0.000000   \n",
       "40                                       COSTA COFFEE  0.000000      0.000000   \n",
       "41  A Costa coffee shop shuttin town woolworths sh... -0.400000      0.700000   \n",
       "42  customer costa rican coffee know read customer... -0.400000      0.850000   \n",
       "43  If people want coffee pub Nescafe Instant noth...  0.000000      0.666667   \n",
       "\n",
       "    sentiment    neg    neu    pos  compound  \n",
       "0         0.0  0.000  0.690  0.310    0.7430  \n",
       "1         0.0  0.000  0.691  0.309    0.8176  \n",
       "5         NaN  0.000  1.000  0.000    0.0000  \n",
       "8         NaN  0.000  1.000  0.000    0.0000  \n",
       "36        0.0  0.000  0.654  0.346    0.6486  \n",
       "38        NaN  0.000  1.000  0.000    0.0000  \n",
       "40        NaN  0.000  1.000  0.000    0.0000  \n",
       "41        0.0  0.071  0.827  0.102    0.2023  \n",
       "42        1.0  0.174  0.725  0.101   -0.3612  \n",
       "43        0.0  0.000  0.874  0.126    0.0772  "
      ]
     },
     "execution_count": 56,
     "metadata": {},
     "output_type": "execute_result"
    }
   ],
   "source": [
    "#change values to numeric \n",
    "data['sentiment'] = data['sentiment'].map({'positive': 0, 'negative':1})\n",
    "data=data.drop(columns=['Tweets','CleanedTweets','remove_Emojis','remove_nonEnglish','remove_unrelated_chars','remove_stopwords'])\n",
    "data.head(10)\n"
   ]
  },
  {
   "cell_type": "code",
   "execution_count": 57,
   "id": "b80b0340",
   "metadata": {},
   "outputs": [],
   "source": [
    "data=data[~data['sentiment'].isna()]"
   ]
  },
  {
   "cell_type": "code",
   "execution_count": 58,
   "id": "1ab95ec7",
   "metadata": {},
   "outputs": [
    {
     "data": {
      "text/plain": [
       "(477, 2958)"
      ]
     },
     "execution_count": 58,
     "metadata": {},
     "output_type": "execute_result"
    }
   ],
   "source": [
    "from sklearn.feature_extraction.text import TfidfVectorizer\n",
    "tweet = data['cleanTweets']\n",
    "target = data['sentiment']\n",
    "tf_vec = TfidfVectorizer()\n",
    "x = tf_vec.fit_transform(tweet)\n",
    "x.shape"
   ]
  },
  {
   "cell_type": "code",
   "execution_count": 203,
   "id": "6e7bb491",
   "metadata": {},
   "outputs": [
    {
     "name": "stdout",
     "output_type": "stream",
     "text": [
      "(333, 2958) (144, 2958) (333,) (144,)\n"
     ]
    }
   ],
   "source": [
    "x_train , x_test , y_train , y_test , = train_test_split(x , target , test_size=0.30 , random_state=0)\n",
    "print(x_train.shape , x_test.shape , y_train.shape , y_test.shape)"
   ]
  },
  {
   "cell_type": "code",
   "execution_count": 206,
   "id": "b62ce93c",
   "metadata": {},
   "outputs": [
    {
     "name": "stdout",
     "output_type": "stream",
     "text": [
      "test score with tf-id features 0.75\n"
     ]
    }
   ],
   "source": [
    "from sklearn.linear_model import LogisticRegression\n",
    "def logistic_classifer (x_train , y_train , x_test , y_test , _C=1.0):\n",
    "    model = LogisticRegression(C=_C , max_iter=3000).fit (x_train , y_train)\n",
    "    score = model.score (x_test , y_test)\n",
    "    print('test score with tf-id features', score)\n",
    "    return model\n",
    "\n",
    "model_tfidf = logistic_classifer(x_train , y_train , x_test , y_test)"
   ]
  },
  {
   "cell_type": "code",
   "execution_count": 215,
   "id": "704367d3",
   "metadata": {},
   "outputs": [
    {
     "name": "stdout",
     "output_type": "stream",
     "text": [
      "logistic accuracy: 0.75\n",
      "__________\n",
      "\n",
      "10-fold cross-validation:\n",
      "[0.72916667 0.72916667 0.72916667 0.72916667 0.72916667 0.72916667\n",
      " 0.72916667 0.74468085 0.74468085 0.74468085]\n",
      "____________________________________________________________________________________________________\n",
      "the average accuracy of the logistic classifier is : 00\n",
      "____________________________________________________________________________________________________\n",
      "nConfusion matrix of the logistic classifier:\n",
      "[[108   0]\n",
      " [ 36   0]]\n",
      "____________________________________________________________________________________________________\n",
      "\n",
      "classification_report of logistic classifier :\n",
      "              precision    recall  f1-score   support\n",
      "\n",
      "         0.0       0.75      1.00      0.86       108\n",
      "         1.0       1.00      0.00      0.00        36\n",
      "\n",
      "    accuracy                           0.75       144\n",
      "   macro avg       0.88      0.50      0.43       144\n",
      "weighted avg       0.81      0.75      0.64       144\n",
      "\n",
      "____________________________________________________________________________________________________\n"
     ]
    }
   ],
   "source": [
    "from sklearn.linear_model import LogisticRegression\n",
    "from sklearn.datasets import load_iris\n",
    "from sklearn.model_selection import cross_val_score\n",
    "from sklearn.metrics import confusion_matrix\n",
    "from sklearn.metrics import classification_report\n",
    "from sklearn.metrics import f1_score\n",
    "\n",
    "classifier_log = LogisticRegression().fit(x_train , y_train)\n",
    "print('logistic accuracy: %.2F'%classifier_log.score(x_test,y_test))\n",
    "result_log = cross_val_score (classifier_log , x, target , cv=10)\n",
    "print('_'*10)\n",
    "print('\\n10-fold cross-validation:')\n",
    "\n",
    "print(result_log)\n",
    "\n",
    "print('_'*100)\n",
    "\n",
    "print('the average accuracy of the logistic classifier is : %.2d'% np.mean (result_log))\n",
    "print('_'*100)\n",
    "print('nConfusion matrix of the logistic classifier:')\n",
    "\n",
    "predicted_log= classifier_log.predict(x_test)\n",
    "print(confusion_matrix(y_test , predicted_log))\n",
    "print('_'*100)\n",
    "\n",
    "print('\\nclassification_report of logistic classifier :')\n",
    "\n",
    "print(classification_report(y_test , predicted_log, zero_division=1))\n",
    "\n",
    "print('_'*100)\n"
   ]
  },
  {
   "cell_type": "code",
   "execution_count": 234,
   "id": "d1441b1e",
   "metadata": {},
   "outputs": [
    {
     "data": {
      "image/png": "[encoded data removed]",
      "text/plain": [
       "<Figure size 640x480 with 1 Axes>"
      ]
     },
     "metadata": {},
     "output_type": "display_data"
    }
   ],
   "source": [
    "from sklearn.metrics import roc_curve, auc\n",
    "import matplotlib.pyplot as plt\n",
    "import numpy as np\n",
    "\n",
    "# y_true are the true binary labels, and y_score are the predicted scores/probabilities\n",
    "y_true = np.random.randint(2, size=80)\n",
    "y_score = np.random.rand(20)\n",
    "\n",
    "# Interpolate y_score to match the length of y_true\n",
    "y_score_interp = np.interp(np.linspace(0, 1, num=len(y_true)), np.linspace(0, 1, num=len(y_score)), y_score)\n",
    "\n",
    "# Compute the ROC curve\n",
    "fpr, tpr, thresholds = roc_curve(y_true, y_score_interp)\n",
    "roc_auc = auc(fpr, tpr)\n",
    "\n",
    "# Plot the ROC curve\n",
    "plt.plot(fpr, tpr, color='darkorange', lw=2, label='ROC curve (area = %0.2f)' % roc_auc)\n",
    "plt.plot([0, 1], [0, 1], color='navy', lw=2, linestyle='--')\n",
    "plt.xlim([0.0, 1.0])\n",
    "plt.ylim([0.0, 1.05])\n",
    "plt.xlabel('False Positive Rate')\n",
    "plt.ylabel('True Positive Rate')\n",
    "plt.title('Receiver operating characteristic')\n",
    "plt.legend(loc=\"lower right\")\n",
    "plt.show()"
   ]
  },
  {
   "cell_type": "code",
   "execution_count": 236,
   "id": "e5e05b9a",
   "metadata": {},
   "outputs": [],
   "source": [
    "import numpy as np\n",
    "import pandas as pd\n",
    "from time import time\n",
    "import warnings\n",
    "from sklearn.naive_bayes import MultinomialNB\n",
    "from sklearn.linear_model import LogisticRegression\n",
    "from sklearn.model_selection import train_test_split, cross_val_score, GridSearchCV\n",
    "from sklearn.metrics import classification_report, fbeta_score, accuracy_score, confusion_matrix, ConfusionMatrixDisplay, make_scorer\n",
    "from sklearn.feature_extraction.text import TfidfVectorizer\n",
    "import matplotlib.pyplot as plt\n",
    "import matplotlib.patches as mpatches\n",
    "from imblearn.over_sampling import RandomOverSampler"
   ]
  },
  {
   "cell_type": "code",
   "execution_count": 237,
   "id": "8ff24910",
   "metadata": {},
   "outputs": [],
   "source": [
    "data_df1=pd.read_csv(\"CostatwtClean2.csv\")"
   ]
  },
  {
   "cell_type": "code",
   "execution_count": 238,
   "id": "7ee259dd",
   "metadata": {},
   "outputs": [
    {
     "data": {
      "text/html": [
       "<div>\n",
       "<style scoped>\n",
       "    .dataframe tbody tr th:only-of-type {\n",
       "        vertical-align: middle;\n",
       "    }\n",
       "\n",
       "    .dataframe tbody tr th {\n",
       "        vertical-align: top;\n",
       "    }\n",
       "\n",
       "    .dataframe thead th {\n",
       "        text-align: right;\n",
       "    }\n",
       "</style>\n",
       "<table border=\"1\" class=\"dataframe\">\n",
       "  <thead>\n",
       "    <tr style=\"text-align: right;\">\n",
       "      <th></th>\n",
       "      <th>cleanTweets</th>\n",
       "      <th>sentiment</th>\n",
       "      <th>neg</th>\n",
       "      <th>neu</th>\n",
       "      <th>pos</th>\n",
       "    </tr>\n",
       "  </thead>\n",
       "  <tbody>\n",
       "    <tr>\n",
       "      <th>0</th>\n",
       "      <td>We launch kindness campai n John Ma ee try et ...</td>\n",
       "      <td>positive</td>\n",
       "      <td>0.0</td>\n",
       "      <td>0.690</td>\n",
       "      <td>0.310</td>\n",
       "    </tr>\n",
       "    <tr>\n",
       "      <th>1</th>\n",
       "      <td>use link treat us xx Use Costa app like et bea...</td>\n",
       "      <td>positive</td>\n",
       "      <td>0.0</td>\n",
       "      <td>0.691</td>\n",
       "      <td>0.309</td>\n",
       "    </tr>\n",
       "    <tr>\n",
       "      <th>2</th>\n",
       "      <td>After release new video costa coffee empoyin c...</td>\n",
       "      <td>neutral</td>\n",
       "      <td>0.0</td>\n",
       "      <td>1.000</td>\n",
       "      <td>0.000</td>\n",
       "    </tr>\n",
       "    <tr>\n",
       "      <th>3</th>\n",
       "      <td>Costa Coffee Drive Thru Mecca</td>\n",
       "      <td>neutral</td>\n",
       "      <td>0.0</td>\n",
       "      <td>1.000</td>\n",
       "      <td>0.000</td>\n",
       "    </tr>\n",
       "    <tr>\n",
       "      <th>4</th>\n",
       "      <td>Never use Costa coffee shop always use local c...</td>\n",
       "      <td>positive</td>\n",
       "      <td>0.0</td>\n",
       "      <td>0.654</td>\n",
       "      <td>0.346</td>\n",
       "    </tr>\n",
       "  </tbody>\n",
       "</table>\n",
       "</div>"
      ],
      "text/plain": [
       "                                         cleanTweets sentiment  neg    neu   \n",
       "0  We launch kindness campai n John Ma ee try et ...  positive  0.0  0.690  \\\n",
       "1  use link treat us xx Use Costa app like et bea...  positive  0.0  0.691   \n",
       "2  After release new video costa coffee empoyin c...   neutral  0.0  1.000   \n",
       "3                      Costa Coffee Drive Thru Mecca   neutral  0.0  1.000   \n",
       "4  Never use Costa coffee shop always use local c...  positive  0.0  0.654   \n",
       "\n",
       "     pos  \n",
       "0  0.310  \n",
       "1  0.309  \n",
       "2  0.000  \n",
       "3  0.000  \n",
       "4  0.346  "
      ]
     },
     "execution_count": 238,
     "metadata": {},
     "output_type": "execute_result"
    }
   ],
   "source": [
    "data_df1.head()"
   ]
  },
  {
   "cell_type": "code",
   "execution_count": 239,
   "id": "44636db9",
   "metadata": {},
   "outputs": [
    {
     "data": {
      "text/plain": [
       "0"
      ]
     },
     "execution_count": 239,
     "metadata": {},
     "output_type": "execute_result"
    }
   ],
   "source": [
    "len (data_df1 [data_df1['cleanTweets']=='negative'])"
   ]
  },
  {
   "cell_type": "code",
   "execution_count": 240,
   "id": "f07a3aee",
   "metadata": {},
   "outputs": [
    {
     "data": {
      "text/plain": [
       "0"
      ]
     },
     "execution_count": 240,
     "metadata": {},
     "output_type": "execute_result"
    }
   ],
   "source": [
    "len (data_df1 [data_df1['cleanTweets']=='positive'])"
   ]
  },
  {
   "cell_type": "code",
   "execution_count": 241,
   "id": "8ddfe4c1",
   "metadata": {},
   "outputs": [],
   "source": [
    "data_df1.drop(data_df1.columns[data_df1.columns.str.contains('unnamed',case = False)],axis = 1, inplace = True)"
   ]
  },
  {
   "cell_type": "code",
   "execution_count": 242,
   "id": "6b047429",
   "metadata": {},
   "outputs": [],
   "source": [
    "# remove data with NAN sentiment\n",
    "data_df1=data_df1[~data_df1[\"sentiment\"].isna()]\n",
    "data_df1=data_df1[~data_df1[\"cleanTweets\"].isna()]"
   ]
  },
  {
   "cell_type": "code",
   "execution_count": 243,
   "id": "c1b58708",
   "metadata": {},
   "outputs": [],
   "source": [
    "# remove the \"Neutral\" class\n",
    "data_df1=data_df1[data_df1['sentiment'] != \"neutral\"]"
   ]
  },
  {
   "cell_type": "code",
   "execution_count": 244,
   "id": "204445e7",
   "metadata": {},
   "outputs": [],
   "source": [
    "# change values to numeric\n",
    "data_df1['sentiment'] = data_df1['sentiment'].map({'negative' : 0, 'positive' : 1})"
   ]
  },
  {
   "cell_type": "code",
   "execution_count": 245,
   "id": "e7cc8b7f",
   "metadata": {},
   "outputs": [],
   "source": [
    "# idneitfy the data and the labels\n",
    "X= data_df1['cleanTweets']\n",
    "y= data_df1['sentiment']"
   ]
  },
  {
   "cell_type": "code",
   "execution_count": 246,
   "id": "22690fee",
   "metadata": {},
   "outputs": [
    {
     "data": {
      "text/plain": [
       "(477, 2958)"
      ]
     },
     "execution_count": 246,
     "metadata": {},
     "output_type": "execute_result"
    }
   ],
   "source": [
    "# Use TfidfVectorizer for feature extraction (TFIDF to convert textual data to numeric form):\n",
    "# Convert to a vector representation\n",
    "unbalanced_tfidf = TfidfVectorizer() \n",
    "unbalanced_X = unbalanced_tfidf.fit_transform(X)\n",
    "unbalanced_X.shape"
   ]
  },
  {
   "cell_type": "code",
   "execution_count": 247,
   "id": "b57b42fb",
   "metadata": {},
   "outputs": [
    {
     "data": {
      "text/plain": [
       "<477x2958 sparse matrix of type '<class 'numpy.float64'>'\n",
       "\twith 7715 stored elements in Compressed Sparse Row format>"
      ]
     },
     "execution_count": 247,
     "metadata": {},
     "output_type": "execute_result"
    }
   ],
   "source": [
    "unbalanced_X"
   ]
  },
  {
   "cell_type": "code",
   "execution_count": 248,
   "id": "05ebb5ab",
   "metadata": {},
   "outputs": [],
   "source": [
    "# Training Phase\n",
    "X_train_unbalanced, X_test_unbalanced, y_train_unbalanced, y_test_unbalanced = train_test_split(unbalanced_X, y, test_size=0.3, random_state=27)"
   ]
  },
  {
   "cell_type": "code",
   "execution_count": 249,
   "id": "3d518a91",
   "metadata": {},
   "outputs": [
    {
     "name": "stdout",
     "output_type": "stream",
     "text": [
      "Training set has 333 samples.\n",
      "Testing set has 144 samples.\n"
     ]
    }
   ],
   "source": [
    "print(\"Training set has {} samples.\".format(X_train_unbalanced.shape[0]))\n",
    "print(\"Testing set has {} samples.\".format(X_test_unbalanced.shape[0]))"
   ]
  },
  {
   "cell_type": "code",
   "execution_count": 250,
   "id": "10dd1dd8",
   "metadata": {},
   "outputs": [
    {
     "data": {
      "text/html": [
       "<style>#sk-container-id-3 {color: black;background-color: white;}#sk-container-id-3 pre{padding: 0;}#sk-container-id-3 div.sk-toggleable {background-color: white;}#sk-container-id-3 label.sk-toggleable__label {cursor: pointer;display: block;width: 100%;margin-bottom: 0;padding: 0.3em;box-sizing: border-box;text-align: center;}#sk-container-id-3 label.sk-toggleable__label-arrow:before {content: \"▸\";float: left;margin-right: 0.25em;color: #696969;}#sk-container-id-3 label.sk-toggleable__label-arrow:hover:before {color: black;}#sk-container-id-3 div.sk-estimator:hover label.sk-toggleable__label-arrow:before {color: black;}#sk-container-id-3 div.sk-toggleable__content {max-height: 0;max-width: 0;overflow: hidden;text-align: left;background-color: #f0f8ff;}#sk-container-id-3 div.sk-toggleable__content pre {margin: 0.2em;color: black;border-radius: 0.25em;background-color: #f0f8ff;}#sk-container-id-3 input.sk-toggleable__control:checked~div.sk-toggleable__content {max-height: 200px;max-width: 100%;overflow: auto;}#sk-container-id-3 input.sk-toggleable__control:checked~label.sk-toggleable__label-arrow:before {content: \"▾\";}#sk-container-id-3 div.sk-estimator input.sk-toggleable__control:checked~label.sk-toggleable__label {background-color: #d4ebff;}#sk-container-id-3 div.sk-label input.sk-toggleable__control:checked~label.sk-toggleable__label {background-color: #d4ebff;}#sk-container-id-3 input.sk-hidden--visually {border: 0;clip: rect(1px 1px 1px 1px);clip: rect(1px, 1px, 1px, 1px);height: 1px;margin: -1px;overflow: hidden;padding: 0;position: absolute;width: 1px;}#sk-container-id-3 div.sk-estimator {font-family: monospace;background-color: #f0f8ff;border: 1px dotted black;border-radius: 0.25em;box-sizing: border-box;margin-bottom: 0.5em;}#sk-container-id-3 div.sk-estimator:hover {background-color: #d4ebff;}#sk-container-id-3 div.sk-parallel-item::after {content: \"\";width: 100%;border-bottom: 1px solid gray;flex-grow: 1;}#sk-container-id-3 div.sk-label:hover label.sk-toggleable__label {background-color: #d4ebff;}#sk-container-id-3 div.sk-serial::before {content: \"\";position: absolute;border-left: 1px solid gray;box-sizing: border-box;top: 0;bottom: 0;left: 50%;z-index: 0;}#sk-container-id-3 div.sk-serial {display: flex;flex-direction: column;align-items: center;background-color: white;padding-right: 0.2em;padding-left: 0.2em;position: relative;}#sk-container-id-3 div.sk-item {position: relative;z-index: 1;}#sk-container-id-3 div.sk-parallel {display: flex;align-items: stretch;justify-content: center;background-color: white;position: relative;}#sk-container-id-3 div.sk-item::before, #sk-container-id-3 div.sk-parallel-item::before {content: \"\";position: absolute;border-left: 1px solid gray;box-sizing: border-box;top: 0;bottom: 0;left: 50%;z-index: -1;}#sk-container-id-3 div.sk-parallel-item {display: flex;flex-direction: column;z-index: 1;position: relative;background-color: white;}#sk-container-id-3 div.sk-parallel-item:first-child::after {align-self: flex-end;width: 50%;}#sk-container-id-3 div.sk-parallel-item:last-child::after {align-self: flex-start;width: 50%;}#sk-container-id-3 div.sk-parallel-item:only-child::after {width: 0;}#sk-container-id-3 div.sk-dashed-wrapped {border: 1px dashed gray;margin: 0 0.4em 0.5em 0.4em;box-sizing: border-box;padding-bottom: 0.4em;background-color: white;}#sk-container-id-3 div.sk-label label {font-family: monospace;font-weight: bold;display: inline-block;line-height: 1.2em;}#sk-container-id-3 div.sk-label-container {text-align: center;}#sk-container-id-3 div.sk-container {/* jupyter's `normalize.less` sets `[hidden] { display: none; }` but bootstrap.min.css set `[hidden] { display: none !important; }` so we also need the `!important` here to be able to override the default hidden behavior on the sphinx rendered scikit-learn.org. See: https://github.com/scikit-learn/scikit-learn/issues/21755 */display: inline-block !important;position: relative;}#sk-container-id-3 div.sk-text-repr-fallback {display: none;}</style><div id=\"sk-container-id-3\" class=\"sk-top-container\"><div class=\"sk-text-repr-fallback\"><pre>TfidfVectorizer()</pre><b>In a Jupyter environment, please rerun this cell to show the HTML representation or trust the notebook. <br />On GitHub, the HTML representation is unable to render, please try loading this page with nbviewer.org.</b></div><div class=\"sk-container\" hidden><div class=\"sk-item\"><div class=\"sk-estimator sk-toggleable\"><input class=\"sk-toggleable__control sk-hidden--visually\" id=\"sk-estimator-id-3\" type=\"checkbox\" checked><label for=\"sk-estimator-id-3\" class=\"sk-toggleable__label sk-toggleable__label-arrow\">TfidfVectorizer</label><div class=\"sk-toggleable__content\"><pre>TfidfVectorizer()</pre></div></div></div></div></div>"
      ],
      "text/plain": [
       "TfidfVectorizer()"
      ]
     },
     "execution_count": 250,
     "metadata": {},
     "output_type": "execute_result"
    }
   ],
   "source": [
    "balanced_tfidf = TfidfVectorizer()\n",
    "balanced_tfidf.fit(X)"
   ]
  },
  {
   "cell_type": "code",
   "execution_count": 251,
   "id": "9cbecfdf",
   "metadata": {},
   "outputs": [],
   "source": [
    "X_train_balanced, X_test_balanced, y_train_balanced, y_test_balanced = train_test_split(X,y, test_size=0.3, random_state=27)"
   ]
  },
  {
   "cell_type": "code",
   "execution_count": 252,
   "id": "2447f158",
   "metadata": {},
   "outputs": [
    {
     "name": "stdout",
     "output_type": "stream",
     "text": [
      "Training set has 333 samples.\n",
      "Testing set has 144 samples.\n"
     ]
    }
   ],
   "source": [
    "print(\"Training set has {} samples.\".format(X_train_balanced.shape[0]))\n",
    "print(\"Testing set has {} samples.\".format(X_test_balanced.shape[0]))"
   ]
  },
  {
   "cell_type": "code",
   "execution_count": 253,
   "id": "9bbda963",
   "metadata": {},
   "outputs": [
    {
     "data": {
      "text/plain": [
       "<333x2958 sparse matrix of type '<class 'numpy.float64'>'\n",
       "\twith 5380 stored elements in Compressed Sparse Row format>"
      ]
     },
     "execution_count": 253,
     "metadata": {},
     "output_type": "execute_result"
    }
   ],
   "source": [
    "X_train_balanced =balanced_tfidf.transform(X_train_balanced)\n",
    "X_test_balanced = balanced_tfidf.transform(X_test_balanced)\n",
    "balanced_X = balanced_tfidf.transform(X)\n",
    "X_train_balanced"
   ]
  },
  {
   "cell_type": "code",
   "execution_count": 254,
   "id": "14af1dd4",
   "metadata": {},
   "outputs": [
    {
     "name": "stdout",
     "output_type": "stream",
     "text": [
      "Data before balence: 85 samples.\n",
      "Data before balance: 248 samples.\n"
     ]
    }
   ],
   "source": [
    "print(\"Data before balence: {} samples.\".format(y_train_unbalanced.value_counts()[0]))\n",
    "print(\"Data before balance: {} samples.\".format(y_train_unbalanced.value_counts()[1]))"
   ]
  },
  {
   "cell_type": "code",
   "execution_count": 255,
   "id": "601654d6",
   "metadata": {},
   "outputs": [
    {
     "name": "stdout",
     "output_type": "stream",
     "text": [
      "Data after balance: 85 samples.\n",
      "Data after balance: 248 samples.\n"
     ]
    }
   ],
   "source": [
    "print(\"Data after balance: {} samples.\".format(y_train_balanced.value_counts()[0]))\n",
    "print(\"Data after balance: {} samples.\".format(y_train_balanced.value_counts()[1]))"
   ]
  },
  {
   "cell_type": "code",
   "execution_count": 259,
   "id": "19395295",
   "metadata": {},
   "outputs": [],
   "source": [
    "def train_predict_pipeline(model, X_train, y_train, X_test, y_test, X, y):\n",
    "    print(\"            {} Training            \".format(model.__class__.__name__))\n",
    "    results = {}\n",
    "    # Training start\n",
    "    start1 = time()\n",
    "    # Train the model\n",
    "    model1 = model.fit(X_train, y_train) \n",
    "    # Training end\n",
    "    end1 = time()  \n",
    "    # Store the time\n",
    "    results['training_time'] = end1 - start1 \n",
    "    # Prediction start\n",
    "    start1 = time() \n",
    "    # Predict\n",
    "    predictions_test = model.predict(X_test) \n",
    "    predictions_train = model.predict(X_train)\n",
    "    # Prediction end\n",
    "    end1 = time()\n",
    "    # Store the time\n",
    "    results['prediction_time'] = end1 - start1 \n",
    "    # Overall accuracy\n",
    "    results['model_accuracy'] = model1.score(X_train, y_train) \n",
    "    # Cross validation score\n",
    "    cross_validation_scores = cross_val_score(model,X, y, cv=10)\n",
    "    results['model_cross_validation'] = np.mean(cross_validation_scores) \n",
    "    # Accuracy scores - for plotting\n",
    "    results['accuracy_train'] = accuracy_score(y_train, predictions_train)\n",
    "    results['accuracy_test'] = accuracy_score(y_test, predictions_test)\n",
    "    # F-scores\n",
    "    results['fbeta_train'] = fbeta_score(y_train, predictions_train, beta=0.5)\n",
    "    results['fbeta_test'] = fbeta_score(y_test, predictions_test, beta=0.5)\n",
    "    # Print the report\n",
    "    print('            Accuracy Report            ')\n",
    "    print('Model Accuracy: %.2f' % results['model_accuracy'])\n",
    "    print('10-Fold Cross Validation: %.2f' % results['model_cross_validation'])\n",
    "    print('Training Score: %.2f' % results['fbeta_train'])\n",
    "    print('Testing Score: %.2f' % results['fbeta_test'])\n",
    "    print('            Confusion Matrix            ')\n",
    "    print(confusion_matrix(y_test, predictions_test))\n",
    "    print(classification_report(y_test, predictions_test, zero_division=1))\n",
    "    display = ConfusionMatrixDisplay.from_estimator(model1, X_test, y_test, display_labels=['negative', 'positive'], cmap=plt.cm.Blues)\n",
    "    display.ax_.set_title('Confusion Matrix ')\n",
    "    plt.show()\n",
    "    # Return the results and the classifier\n",
    "    return results, model1"
   ]
  },
  {
   "cell_type": "code",
   "execution_count": 260,
   "id": "c45c80ad",
   "metadata": {},
   "outputs": [],
   "source": [
    "Naivebayes_classifier = MultinomialNB()"
   ]
  },
  {
   "cell_type": "code",
   "execution_count": 261,
   "id": "4623b746",
   "metadata": {},
   "outputs": [
    {
     "name": "stdout",
     "output_type": "stream",
     "text": [
      "            MultinomialNB Training            \n",
      "            Accuracy Report            \n",
      "Model Accuracy: 0.80\n",
      "10-Fold Cross Validation: 0.74\n",
      "Training Score: 0.82\n",
      "Testing Score: 0.75\n",
      "            Confusion Matrix            \n",
      "[[  0  42]\n",
      " [  0 102]]\n",
      "              precision    recall  f1-score   support\n",
      "\n",
      "           0       1.00      0.00      0.00        42\n",
      "           1       0.71      1.00      0.83       102\n",
      "\n",
      "    accuracy                           0.71       144\n",
      "   macro avg       0.85      0.50      0.41       144\n",
      "weighted avg       0.79      0.71      0.59       144\n",
      "\n"
     ]
    },
    {
     "data": {
      "image/png": "[encoded data removed]",
      "text/plain": [
       "<Figure size 640x480 with 2 Axes>"
      ]
     },
     "metadata": {},
     "output_type": "display_data"
    }
   ],
   "source": [
    "results_raw = {}\n",
    "\n",
    "for classifier in [ Naivebayes_classifier]:\n",
    "    classifier_name = classifier.__class__.__name__\n",
    "    results_raw[classifier_name] = {}\n",
    "    results_raw[classifier_name], classifier = train_predict_pipeline(\n",
    "classifier, X_train_unbalanced, y_train_unbalanced, X_test_unbalanced, y_test_unbalanced, unbalanced_X, y)"
   ]
  },
  {
   "cell_type": "code",
   "execution_count": 262,
   "id": "925ef944",
   "metadata": {},
   "outputs": [
    {
     "data": {
      "image/png": "[encoded data removed]",
      "text/plain": [
       "<Figure size 640x480 with 1 Axes>"
      ]
     },
     "metadata": {},
     "output_type": "display_data"
    }
   ],
   "source": [
    "from sklearn.metrics import roc_curve, auc\n",
    "import matplotlib.pyplot as plt\n",
    "import numpy as np\n",
    "\n",
    "# y_true are the true binary labels, and y_score are the predicted scores/probabilities\n",
    "y_true = np.random.randint(2, size=80)\n",
    "y_score = np.random.rand(20)\n",
    "\n",
    "# Interpolate y_score to match the length of y_true\n",
    "y_score_interp = np.interp(np.linspace(0, 1, num=len(y_true)), np.linspace(0, 1, num=len(y_score)), y_score)\n",
    "\n",
    "# Compute the ROC curve\n",
    "fpr, tpr, thresholds = roc_curve(y_true, y_score_interp)\n",
    "roc_auc = auc(fpr, tpr)\n",
    "\n",
    "# Plot the ROC curve\n",
    "plt.plot(fpr, tpr, color='darkorange', lw=2, label='ROC curve (area = %0.2f)' % roc_auc)\n",
    "plt.plot([0, 1], [0, 1], color='navy', lw=2, linestyle='--')\n",
    "plt.xlim([0.0, 1.0])\n",
    "plt.ylim([0.0, 1.05])\n",
    "plt.xlabel('False Positive Rate')\n",
    "plt.ylabel('True Positive Rate')\n",
    "plt.title('Receiver operating characteristic')\n",
    "plt.legend(loc=\"lower right\")\n",
    "plt.show()"
   ]
  },
  {
   "cell_type": "code",
   "execution_count": 263,
   "id": "02ab26ce",
   "metadata": {},
   "outputs": [
    {
     "name": "stdout",
     "output_type": "stream",
     "text": [
      "            MultinomialNB Training            \n",
      "            Accuracy Report            \n",
      "Model Accuracy: 0.80\n",
      "10-Fold Cross Validation: 0.74\n",
      "Training Score: 0.82\n",
      "Testing Score: 0.75\n",
      "            Confusion Matrix            \n",
      "[[  0  42]\n",
      " [  0 102]]\n",
      "              precision    recall  f1-score   support\n",
      "\n",
      "           0       1.00      0.00      0.00        42\n",
      "           1       0.71      1.00      0.83       102\n",
      "\n",
      "    accuracy                           0.71       144\n",
      "   macro avg       0.85      0.50      0.41       144\n",
      "weighted avg       0.79      0.71      0.59       144\n",
      "\n"
     ]
    },
    {
     "data": {
      "image/png": "[encoded data removed]",
      "text/plain": [
       "<Figure size 640x480 with 2 Axes>"
      ]
     },
     "metadata": {},
     "output_type": "display_data"
    }
   ],
   "source": [
    "Naivebayes_classifier = MultinomialNB()\n",
    "results = {}\n",
    "\n",
    "for classifier in [ Naivebayes_classifier]:\n",
    "    classifier_name = classifier.__class__.__name__\n",
    "    results[classifier_name] = {}\n",
    "    results[classifier_name], classifier = train_predict_pipeline(\n",
    "        classifier, X_train_balanced, y_train_balanced, X_test_balanced, y_test_balanced, balanced_X, y)\n"
   ]
  },
  {
   "cell_type": "code",
   "execution_count": 3,
   "id": "679ce86e",
   "metadata": {},
   "outputs": [],
   "source": [
    "   data = pd.read_csv('CostatwtClean2.csv')"
   ]
  },
  {
   "cell_type": "code",
   "execution_count": 264,
   "id": "aaca3a3b",
   "metadata": {},
   "outputs": [
    {
     "data": {
      "image/png": "[encoded data removed]",
      "text/plain": [
       "<Figure size 640x480 with 1 Axes>"
      ]
     },
     "metadata": {},
     "output_type": "display_data"
    }
   ],
   "source": [
    "from sklearn.metrics import roc_curve, auc\n",
    "import matplotlib.pyplot as plt\n",
    "import numpy as np\n",
    "\n",
    "# y_true are the true binary labels, and y_score are the predicted scores/probabilities\n",
    "y_true = np.random.randint(2, size=80)\n",
    "y_score = np.random.rand(20)\n",
    "\n",
    "# Interpolate y_score to match the length of y_true\n",
    "y_score_interp = np.interp(np.linspace(0, 1, num=len(y_true)), np.linspace(0, 1, num=len(y_score)), y_score)\n",
    "\n",
    "# Compute the ROC curve\n",
    "fpr, tpr, thresholds = roc_curve(y_true, y_score_interp)\n",
    "roc_auc = auc(fpr, tpr)\n",
    "\n",
    "# Plot the ROC curve\n",
    "plt.plot(fpr, tpr, color='darkorange', lw=2, label='ROC curve (area = %0.2f)' % roc_auc)\n",
    "plt.plot([0, 1], [0, 1], color='navy', lw=2, linestyle='--')\n",
    "plt.xlim([0.0, 1.0])\n",
    "plt.ylim([0.0, 1.05])\n",
    "plt.xlabel('False Positive Rate')\n",
    "plt.ylabel('True Positive Rate')\n",
    "plt.title('Receiver operating characteristic')\n",
    "plt.legend(loc=\"lower right\")\n",
    "plt.show()"
   ]
  },
  {
   "cell_type": "code",
   "execution_count": 16,
   "id": "1b3b85f6-8bbf-4172-8d78-4f2faee7f22d",
   "metadata": {},
   "outputs": [
    {
     "name": "stdout",
     "output_type": "stream",
     "text": [
      "                                           cleanTweets sentiment    neg   \n",
      "12   Costa sort burned caramel coffee ish flavour h...   neutral  0.000  \\\n",
      "16   I put petrol mistake I otta diesel mp litre I ...  negative  0.185   \n",
      "131  man costa ordered iced espresso immediately ca...  positive  0.123   \n",
      "164  Don Starbucks coffee crap always tastes burnt ...  negative  0.476   \n",
      "180  look photos people coffees costa starbucks wan...  negative  0.393   \n",
      "222  Cos none taste like coffee Nah havin barfed ca...  negative  0.262   \n",
      "232  Lol I I work chief taster Costa round shops te...  positive  0.000   \n",
      "585  Costa Rican coffee experience miss Learn taste...  positive  0.101   \n",
      "683       Thanks Costa Rican coffee Best I ever tasted  positive  0.000   \n",
      "719                    Costa coffee tastes like faeces  positive  0.000   \n",
      "724  I ot kitchen service mornin coffee like busine...  negative  0.205   \n",
      "738  Costa people like weak coffee lar e shot mediu...  positive  0.112   \n",
      "786  Kecewa ah dapat costa coffee ive tasted previo...   neutral  0.000   \n",
      "\n",
      "       neu    pos  \n",
      "12   1.000  0.000  \n",
      "16   0.815  0.000  \n",
      "131  0.672  0.206  \n",
      "164  0.524  0.000  \n",
      "180  0.426  0.180  \n",
      "222  0.738  0.000  \n",
      "232  0.763  0.237  \n",
      "585  0.633  0.266  \n",
      "683  0.413  0.587  \n",
      "719  0.615  0.385  \n",
      "724  0.629  0.166  \n",
      "738  0.620  0.267  \n",
      "786  1.000  0.000  \n"
     ]
    }
   ],
   "source": [
    "\n",
    "# importing pandas as pd\n",
    "import pandas as pd\n",
    "import matplotlib.pyplot as plt\n",
    "import numpy as np\n",
    "  \n",
    "# reading csv file\n",
    "df = pd.read_csv(\"CostatwtClean2.csv\")\n",
    "  \n",
    "df = df[df['cleanTweets'].str.contains('taste', na=False)]\n",
    "print(df)"
   ]
  },
  {
   "cell_type": "code",
   "execution_count": 17,
   "id": "1b759144-d2c9-4165-b55a-6e90cad1c323",
   "metadata": {},
   "outputs": [],
   "source": [
    "positive_df = df[df.sentiment == 'positive']"
   ]
  },
  {
   "cell_type": "code",
   "execution_count": 18,
   "id": "365902c5-ade9-4ba7-85d2-32913fb71bd4",
   "metadata": {},
   "outputs": [],
   "source": [
    "negative_df = df[df.sentiment == 'negative']"
   ]
  },
  {
   "cell_type": "code",
   "execution_count": 19,
   "id": "93ce04d6-032f-4646-8157-a2784158af3f",
   "metadata": {},
   "outputs": [],
   "source": [
    "charData = {'positive':len(positive_df), 'negative':len(negative_df)}\n",
    "label = list(charData.keys())\n",
    "value = list(charData.values())"
   ]
  },
  {
   "cell_type": "code",
   "execution_count": 20,
   "id": "e6a1080e-9ff2-452a-bec8-3c6e0164e040",
   "metadata": {},
   "outputs": [
    {
     "data": {
      "text/plain": [
       "<BarContainer object of 2 artists>"
      ]
     },
     "execution_count": 20,
     "metadata": {},
     "output_type": "execute_result"
    },
    {
     "data": {
      "image/png": "[encoded data removed]",
      "text/plain": [
       "<Figure size 640x480 with 1 Axes>"
      ]
     },
     "metadata": {},
     "output_type": "display_data"
    }
   ],
   "source": [
    "plt.bar(label,value)"
   ]
  },
  {
   "cell_type": "code",
   "execution_count": 39,
   "id": "28031fbe-88d3-4660-9e09-95c017fbe5cc",
   "metadata": {},
   "outputs": [
    {
     "name": "stdout",
     "output_type": "stream",
     "text": [
      "                                           cleanTweets sentiment  neg    neu   \n",
      "359  For environmental reasons use k cups Recyclin ...   neutral  0.0  1.000  \\\n",
      "567  One shot espresso please Workin Costa coffee m...  positive  0.0  0.929   \n",
      "774  Exclusive interview Costa Rican President Rodr...  positive  0.0  0.812   \n",
      "\n",
      "       pos  \n",
      "359  0.000  \n",
      "567  0.071  \n",
      "774  0.188  \n",
      "number of related word : 3\n"
     ]
    }
   ],
   "source": [
    "df = pd.read_csv(\"CostatwtClean2.csv\")\n",
    "df = df[df['cleanTweets'].str.contains('environment', na=False)]\n",
    "print(df)\n",
    "print('number of related word :',len(df))"
   ]
  },
  {
   "cell_type": "code",
   "execution_count": 33,
   "id": "68d32fe9",
   "metadata": {},
   "outputs": [
    {
     "data": {
      "text/plain": [
       "<BarContainer object of 2 artists>"
      ]
     },
     "execution_count": 33,
     "metadata": {},
     "output_type": "execute_result"
    },
    {
     "data": {
      "image/png": "[encoded data removed]",
      "text/plain": [
       "<Figure size 640x480 with 1 Axes>"
      ]
     },
     "metadata": {},
     "output_type": "display_data"
    }
   ],
   "source": [
    "positive_df = df[df.sentiment == 'positive']\n",
    "negative_df = df[df.sentiment == 'negative']\n",
    "charData = {'positive':len(positive_df), 'negative':len(negative_df)}\n",
    "label = list(charData.keys())\n",
    "value = list(charData.values())\n",
    "plt.bar(label,value)"
   ]
  },
  {
   "cell_type": "code",
   "execution_count": 40,
   "id": "c1e06ffd",
   "metadata": {},
   "outputs": [
    {
     "name": "stdout",
     "output_type": "stream",
     "text": [
      "                                           cleanTweets sentiment    neg   \n",
      "59   Wtf happened costa coffee prices KD cold brew ...  negative  0.260  \\\n",
      "113  Cant wait land birmin ham buy overpriced coffe...  positive  0.000   \n",
      "164  Don Starbucks coffee crap always tastes burnt ...  negative  0.476   \n",
      "343  With profits revenue billion Costa profits bil...  positive  0.080   \n",
      "379  Jeeso bou ht small black coffee Costa price we...   neutral  0.000   \n",
      "422  fxxx milk hot water coffee everyone I spoke pi...  positive  0.124   \n",
      "446          I relate overpriced coffee Costa hospital   neutral  0.000   \n",
      "483  Wow I bi Costa flat white fan increase yet pri...  positive  0.065   \n",
      "492  What rip COSTA put prices AGAIN medium coffee ...  positive  0.000   \n",
      "503  The recent surprise price hike means visit Cos...  negative  0.155   \n",
      "562  Costa Coffee puttin price coffee p villain ori...  negative  0.340   \n",
      "571  Tarun Jain replaces Navin Gurnaney Tim Horton ...   neutral  0.000   \n",
      "746  parents drink coffee lame ass cappuccinos like...  negative  0.375   \n",
      "\n",
      "       neu    pos  \n",
      "59   0.620  0.120  \n",
      "113  0.641  0.359  \n",
      "164  0.524  0.000  \n",
      "343  0.526  0.393  \n",
      "379  1.000  0.000  \n",
      "422  0.645  0.230  \n",
      "446  1.000  0.000  \n",
      "483  0.677  0.258  \n",
      "492  0.787  0.213  \n",
      "503  0.752  0.093  \n",
      "562  0.660  0.000  \n",
      "571  1.000  0.000  \n",
      "746  0.476  0.149  \n"
     ]
    }
   ],
   "source": [
    "# importing pandas as pd\n",
    "import pandas as pa \n",
    "import matplotlib.pyplot as plt \n",
    "import numpy as np\n",
    "# reading csv file\n",
    "df = pd.read_csv(\"CostatwtClean2.csv\")\n",
    "df = df [df ['cleanTweets'].str.contains('price', na=False) ]\n",
    "print(df)"
   ]
  },
  {
   "cell_type": "code",
   "execution_count": 41,
   "id": "dda796fa",
   "metadata": {},
   "outputs": [
    {
     "name": "stdout",
     "output_type": "stream",
     "text": [
      "5\n"
     ]
    }
   ],
   "source": [
    "len(df)\n",
    "positive_df = df[df.sentiment == 'positive']\n",
    "print(len(positive_df))"
   ]
  },
  {
   "cell_type": "code",
   "execution_count": 42,
   "id": "25da31f7",
   "metadata": {},
   "outputs": [
    {
     "name": "stdout",
     "output_type": "stream",
     "text": [
      "5\n"
     ]
    }
   ],
   "source": [
    "len(df)\n",
    "negative_df = df[df.sentiment == 'negative']\n",
    "print(len(negative_df))"
   ]
  },
  {
   "cell_type": "code",
   "execution_count": 43,
   "id": "bc64f42f",
   "metadata": {},
   "outputs": [],
   "source": [
    "charData = {'positive' :len(positive_df), 'negative': len (negative_df)}\n",
    "label = list(charData.keys ())\n",
    "value = list(charData.values ())"
   ]
  },
  {
   "cell_type": "code",
   "execution_count": 44,
   "id": "32ae8bc5",
   "metadata": {},
   "outputs": [
    {
     "data": {
      "text/plain": [
       "<BarContainer object of 2 artists>"
      ]
     },
     "execution_count": 44,
     "metadata": {},
     "output_type": "execute_result"
    },
    {
     "data": {
      "image/png": "[encoded data removed]",
      "text/plain": [
       "<Figure size 640x480 with 1 Axes>"
      ]
     },
     "metadata": {},
     "output_type": "display_data"
    }
   ],
   "source": [
    "plt.bar (label, value)"
   ]
  },
  {
   "cell_type": "code",
   "execution_count": null,
   "id": "bf289093",
   "metadata": {},
   "outputs": [],
   "source": []
  }
 ],
 "metadata": {
  "kernelspec": {
   "display_name": "Python 3 (ipykernel)",
   "language": "python",
   "name": "python3"
  },
  "language_info": {
   "codemirror_mode": {
    "name": "ipython",
    "version": 3
   },
   "file_extension": ".py",
   "mimetype": "text/x-python",
   "name": "python",
   "nbconvert_exporter": "python",
   "pygments_lexer": "ipython3",
   "version": "3.11.3"
  }
 },
 "nbformat": 4,
 "nbformat_minor": 5
}
